{
 "cells": [
  {
   "cell_type": "code",
   "execution_count": 1,
   "id": "3b260f2f",
   "metadata": {
    "execution": {
     "iopub.execute_input": "2021-12-03T21:52:32.622024Z",
     "iopub.status.busy": "2021-12-03T21:52:32.621167Z",
     "iopub.status.idle": "2021-12-03T21:52:36.806471Z",
     "shell.execute_reply": "2021-12-03T21:52:36.807291Z"
    },
    "papermill": {
     "duration": 4.278531,
     "end_time": "2021-12-03T21:52:36.807650",
     "exception": false,
     "start_time": "2021-12-03T21:52:32.529119",
     "status": "completed"
    },
    "tags": []
   },
   "outputs": [],
   "source": [
    "#-------- Import Libraries --------#\n",
    "\n",
    "import torch\n",
    "import time\n",
    "import os\n",
    "import gc\n",
    "import sys\n",
    "import random\n",
    "import pickle\n",
    "import mlflow\n",
    "import numpy as np\n",
    "import pandas as pd\n",
    "import torch.nn as nn\n",
    "import seaborn as sn\n",
    "import matplotlib.pyplot as plt\n",
    "from datetime import date\n",
    "import collections\n",
    "from sklearn.metrics import matthews_corrcoef\n",
    "import torch.optim as optim  # For all Optimization algorithms, SGD, Adam, etc.\n",
    "import torch.nn.functional as F  # All functions that don't have any parameters\n",
    "from sklearn.metrics import accuracy_score, roc_auc_score, roc_curve, auc"
   ]
  },
  {
   "cell_type": "code",
   "execution_count": 2,
   "id": "3423c37a-4b59-4a1f-93f8-4ef70f490869",
   "metadata": {
    "execution": {
     "iopub.execute_input": "2021-12-03T21:52:36.997570Z",
     "iopub.status.busy": "2021-12-03T21:52:36.996582Z",
     "iopub.status.idle": "2021-12-03T21:52:37.004637Z",
     "shell.execute_reply": "2021-12-03T21:52:37.005502Z"
    },
    "papermill": {
     "duration": 0.110889,
     "end_time": "2021-12-03T21:52:37.005758",
     "exception": false,
     "start_time": "2021-12-03T21:52:36.894869",
     "status": "completed"
    },
    "tags": []
   },
   "outputs": [],
   "source": [
    "#-------- Import Modules from project--------#\n",
    "import encoding as enc\n",
    "from model import Net, Net_thesis, Net_project, Net_project_simple_CNN_RNN\n",
    "import functions as func"
   ]
  },
  {
   "cell_type": "code",
   "execution_count": 3,
   "id": "c4211d09",
   "metadata": {
    "execution": {
     "iopub.execute_input": "2021-12-03T21:52:37.270026Z",
     "iopub.status.busy": "2021-12-03T21:52:37.267245Z",
     "iopub.status.idle": "2021-12-03T21:52:37.273035Z",
     "shell.execute_reply": "2021-12-03T21:52:37.270779Z"
    },
    "papermill": {
     "duration": 0.126954,
     "end_time": "2021-12-03T21:52:37.273211",
     "exception": false,
     "start_time": "2021-12-03T21:52:37.146257",
     "status": "completed"
    },
    "tags": []
   },
   "outputs": [
    {
     "name": "stdout",
     "output_type": "stream",
     "text": [
      "No GPUs available. Using CPU instead.\n"
     ]
    }
   ],
   "source": [
    "#-------- Set Device --------#\n",
    "\n",
    "if torch.cuda.is_available():\n",
    "    device = torch.device('cuda')\n",
    "    print('There are %d GPU(s) available.' % torch.cuda.device_count())\n",
    "else:\n",
    "    print('No GPUs available. Using CPU instead.')\n",
    "    device = torch.device('cpu')"
   ]
  },
  {
   "cell_type": "code",
   "execution_count": 4,
   "id": "cd5adc66",
   "metadata": {
    "execution": {
     "iopub.execute_input": "2021-12-03T21:52:37.530465Z",
     "iopub.status.busy": "2021-12-03T21:52:37.529551Z",
     "iopub.status.idle": "2021-12-03T21:52:37.533385Z",
     "shell.execute_reply": "2021-12-03T21:52:37.534123Z"
    },
    "papermill": {
     "duration": 0.16156,
     "end_time": "2021-12-03T21:52:37.534358",
     "exception": false,
     "start_time": "2021-12-03T21:52:37.372798",
     "status": "completed"
    },
    "tags": []
   },
   "outputs": [],
   "source": [
    "#-------- Seeds --------#\n",
    "\n",
    "seed_val = 42\n",
    "\n",
    "random.seed(seed_val)\n",
    "np.random.seed(seed_val)\n",
    "torch.manual_seed(seed_val)\n",
    "torch.cuda.manual_seed_all(seed_val)\n",
    "\n",
    "torch.use_deterministic_algorithms(True)"
   ]
  },
  {
   "cell_type": "code",
   "execution_count": 5,
   "id": "4f33ea7b",
   "metadata": {
    "execution": {
     "iopub.execute_input": "2021-12-03T21:52:37.726656Z",
     "iopub.status.busy": "2021-12-03T21:52:37.724990Z",
     "iopub.status.idle": "2021-12-03T21:52:37.727513Z",
     "shell.execute_reply": "2021-12-03T21:52:37.725800Z"
    },
    "papermill": {
     "duration": 0.098633,
     "end_time": "2021-12-03T21:52:37.727710",
     "exception": false,
     "start_time": "2021-12-03T21:52:37.629077",
     "status": "completed"
    },
    "tags": []
   },
   "outputs": [],
   "source": [
    "#-------- Import Modules from project--------#\n",
    "\n",
    "import encoding as enc\n",
    "from model import Net_project\n",
    "import functions as func\n"
   ]
  },
  {
   "cell_type": "code",
   "execution_count": 6,
   "id": "4b37f634",
   "metadata": {
    "execution": {
     "iopub.execute_input": "2021-12-03T21:52:38.054432Z",
     "iopub.status.busy": "2021-12-03T21:52:38.053594Z",
     "iopub.status.idle": "2021-12-03T21:52:38.079674Z",
     "shell.execute_reply": "2021-12-03T21:52:38.080300Z"
    },
    "papermill": {
     "duration": 0.203378,
     "end_time": "2021-12-03T21:52:38.080516",
     "exception": false,
     "start_time": "2021-12-03T21:52:37.877138",
     "status": "completed"
    },
    "tags": []
   },
   "outputs": [
    {
     "name": "stdout",
     "output_type": "stream",
     "text": [
      "1\n",
      "P1_input.npz\n",
      "2\n",
      "P2_input.npz\n",
      "3\n",
      "P3_input.npz\n",
      "4\n",
      "P4_input.npz\n",
      "5\n",
      "P5_input.npz\n",
      "\n",
      "Number of files: 5\n",
      "File: 0\n",
      "{1.0: 380, 0.0: 1146} \n",
      "\n",
      "File: 1\n",
      "{1.0: 292, 0.0: 876} \n",
      "\n",
      "File: 2\n",
      "{1.0: 370, 0.0: 1110} \n",
      "\n",
      "File: 3\n",
      "{1.0: 383, 0.0: 1149} \n",
      "\n",
      "File: 4\n",
      "{1.0: 301, 0.0: 906} \n",
      "\n",
      "Size of file 1 1526\n",
      "Size of file 2 1168\n",
      "Size of file 3 1480\n",
      "Size of file 4 1532\n",
      "Size of file 5 1207\n"
     ]
    }
   ],
   "source": [
    "#-------- Import Dataset --------#\n",
    "\n",
    "#data_list = []\n",
    "target_list = []\n",
    "\n",
    "import glob\n",
    "for i in range(5):\n",
    "    i = i+1\n",
    "    print(i)\n",
    "    for fp in glob.glob(\"*{}*input.npz\".format(i)):\n",
    "        print(fp)\n",
    "        #data = np.load(fp)[\"arr_0\"]\n",
    "        targets = np.load(fp.replace(\"input\", \"labels\"))[\"arr_0\"]\n",
    "        #data_list.append(data)\n",
    "        target_list.append(targets)\n",
    "\n",
    "data_partitions = len(target_list)\n",
    "\n",
    "print(\"\\nNumber of files:\", data_partitions)\n",
    "\n",
    "for i in range(len(target_list)):\n",
    "    print(\"File:\", i)\n",
    "    frequency = collections.Counter(target_list[i])\n",
    "    print(dict(frequency), \"\\n\")\n",
    "    \n",
    "data_partitions = len(target_list)\n",
    "for i in range(data_partitions):\n",
    "    print(\"Size of file\", i+1, len(target_list[i]))"
   ]
  },
  {
   "cell_type": "code",
   "execution_count": 7,
   "id": "a9897fc5",
   "metadata": {
    "execution": {
     "iopub.execute_input": "2021-12-03T21:52:38.264529Z",
     "iopub.status.busy": "2021-12-03T21:52:38.263901Z",
     "iopub.status.idle": "2021-12-03T21:52:38.266228Z",
     "shell.execute_reply": "2021-12-03T21:52:38.266688Z"
    },
    "papermill": {
     "duration": 0.090782,
     "end_time": "2021-12-03T21:52:38.266875",
     "exception": false,
     "start_time": "2021-12-03T21:52:38.176093",
     "status": "completed"
    },
    "tags": [
     "parameters"
    ]
   },
   "outputs": [],
   "source": [
    "#-------- Select the network you would like to use -------#\n",
    "\n",
    "CNN = False # ONLY CNN\n",
    "CNN_RNN = True # CNN + RNN\n",
    "\n",
    "# Type of embedding\n",
    "embedding = \"msa\"   #\"asm\"\n",
    "keep_energy = True\n",
    "\n",
    "esm_1b_separated = True   ### update\n",
    "if esm_1b_separated:       ### update\n",
    "    keep_energy = False\n",
    "\n",
    "# Hyperparameters to fine-tune\n",
    "numHN = 32\n",
    "numFilter = 100\n",
    "dropOutRate = 0.1\n",
    "learning_rate = 0.001\n",
    "weight_decay = 0.0001\n",
    "\n",
    "# For ml-flow\n",
    "name_experiment = \"hyperparameter_grid\"\n",
    "\n",
    "\n",
    "##--- parameters fixed\n",
    "cross_validation = False\n",
    "bat_size = 128\n",
    "num_classes=1\n",
    "epochs = 100\n",
    "patience=10\n",
    "criterion = nn.BCEWithLogitsLoss()\n",
    "    "
   ]
  },
  {
   "cell_type": "code",
   "execution_count": 8,
   "id": "2d12d21b",
   "metadata": {
    "execution": {
     "iopub.execute_input": "2021-12-03T21:52:38.434626Z",
     "iopub.status.busy": "2021-12-03T21:52:38.433792Z",
     "iopub.status.idle": "2021-12-03T21:52:38.439403Z",
     "shell.execute_reply": "2021-12-03T21:52:38.440145Z"
    },
    "papermill": {
     "duration": 0.089293,
     "end_time": "2021-12-03T21:52:38.440361",
     "exception": false,
     "start_time": "2021-12-03T21:52:38.351068",
     "status": "completed"
    },
    "tags": [
     "injected-parameters"
    ]
   },
   "outputs": [],
   "source": [
    "# Parameters\n",
    "embedding = \"msa\"\n",
    "numHN = 26\n",
    "numFilter = 100\n",
    "dropOutRate = 0.3\n",
    "esm_1b_separated = True\n",
    "learning_rate = 0.001\n",
    "weight_decay = 0.0001\n",
    "name_experiment = \"hyperparameter grid\"\n"
   ]
  },
  {
   "cell_type": "code",
   "execution_count": 9,
   "id": "b820a879",
   "metadata": {
    "execution": {
     "iopub.execute_input": "2021-12-03T21:52:38.602666Z",
     "iopub.status.busy": "2021-12-03T21:52:38.601620Z",
     "iopub.status.idle": "2021-12-03T21:52:38.604833Z",
     "shell.execute_reply": "2021-12-03T21:52:38.603819Z"
    },
    "papermill": {
     "duration": 0.085379,
     "end_time": "2021-12-03T21:52:38.605041",
     "exception": false,
     "start_time": "2021-12-03T21:52:38.519662",
     "status": "completed"
    },
    "tags": []
   },
   "outputs": [],
   "source": [
    "data_list_enc = list() ### update"
   ]
  },
  {
   "cell_type": "code",
   "execution_count": 10,
   "id": "f46dc5c6",
   "metadata": {
    "execution": {
     "iopub.execute_input": "2021-12-03T21:52:38.792216Z",
     "iopub.status.busy": "2021-12-03T21:52:38.789162Z",
     "iopub.status.idle": "2021-12-03T21:52:51.046159Z",
     "shell.execute_reply": "2021-12-03T21:52:51.047005Z"
    },
    "papermill": {
     "duration": 12.354296,
     "end_time": "2021-12-03T21:52:51.047272",
     "exception": false,
     "start_time": "2021-12-03T21:52:38.692976",
     "status": "completed"
    },
    "tags": []
   },
   "outputs": [
    {
     "name": "stdout",
     "output_type": "stream",
     "text": [
      "MSA File 1 is loaded.\n"
     ]
    },
    {
     "name": "stdout",
     "output_type": "stream",
     "text": [
      "MSA File 2 is loaded.\n"
     ]
    },
    {
     "name": "stdout",
     "output_type": "stream",
     "text": [
      "MSA File 3 is loaded.\n"
     ]
    },
    {
     "name": "stdout",
     "output_type": "stream",
     "text": [
      "MSA File 4 is loaded.\n"
     ]
    },
    {
     "name": "stdout",
     "output_type": "stream",
     "text": [
      "MSA File 5 is loaded.\n",
      "Done\n"
     ]
    }
   ],
   "source": [
    "#embedding of data\n",
    "\n",
    "try:\n",
    "    os.mkdir(embedding_dir)\n",
    "except:\n",
    "    pass\n",
    "\n",
    "#try to fecth if already exist\n",
    "if embedding == \"Baseline\":   \n",
    "    data_list_enc = data_list\n",
    "    \n",
    "elif embedding == \"esm-1b\":\n",
    "    if esm_1b_separated == False:\n",
    "        pass\n",
    "            \n",
    "    if esm_1b_separated == True:\n",
    "        for file_index in range(5):\n",
    "            \n",
    "            infile = open('esm-energies-file-updated-{}.pkl'.format(file_index+1), 'rb')\n",
    "            encoding = pickle.load(infile)\n",
    "            data_list_enc.append(encoding)\n",
    "            del encoding\n",
    "            gc.collect()\n",
    "            infile.close()\n",
    "            print(\"ESM File\", file_index+1, \"is loaded.\")\n",
    "            \n",
    "else: #msa\n",
    "    if esm_1b_separated == False:\n",
    "        pass\n",
    "            \n",
    "    if esm_1b_separated == True:\n",
    "        for file_index in range(5):\n",
    "            \n",
    "            infile = open('esm-energies-file-MSA-{}.pkl'.format(file_index+1), 'rb')\n",
    "            encoding = pickle.load(infile)\n",
    "            data_list_enc.append(encoding) \n",
    "            infile.close()\n",
    "            print(\"MSA File\", file_index+1, \"is loaded.\")\n",
    "    \n",
    "print(\"Done\")"
   ]
  },
  {
   "cell_type": "code",
   "execution_count": 11,
   "id": "d0702979",
   "metadata": {
    "execution": {
     "iopub.execute_input": "2021-12-03T21:52:51.303451Z",
     "iopub.status.busy": "2021-12-03T21:52:51.301822Z",
     "iopub.status.idle": "2021-12-03T21:52:51.317655Z",
     "shell.execute_reply": "2021-12-03T21:52:51.316844Z"
    },
    "papermill": {
     "duration": 0.118345,
     "end_time": "2021-12-03T21:52:51.317847",
     "exception": false,
     "start_time": "2021-12-03T21:52:51.199502",
     "status": "completed"
    },
    "tags": []
   },
   "outputs": [
    {
     "name": "stdout",
     "output_type": "stream",
     "text": [
      "Total number of files: 5 \n",
      "\n",
      "File 0\n",
      "number of complexes: 1526\n",
      "number of rows: 420\n",
      "number of columns: 801\n",
      "\n",
      "\n",
      "File 1\n",
      "number of complexes: 1168\n",
      "number of rows: 420\n",
      "number of columns: 801\n",
      "\n",
      "\n",
      "File 2\n",
      "number of complexes: 1480\n",
      "number of rows: 420\n",
      "number of columns: 801\n",
      "\n",
      "\n",
      "File 3\n",
      "number of complexes: 1532\n",
      "number of rows: 420\n",
      "number of columns: 801\n",
      "\n",
      "\n",
      "File 4\n",
      "number of complexes: 1207\n",
      "number of rows: 420\n",
      "number of columns: 801\n",
      "\n",
      "\n"
     ]
    }
   ],
   "source": [
    "#-------- Print Dimentions -------# ### update\n",
    "\n",
    "if embedding == \"baseline\":\n",
    "    print(\"baseline\")\n",
    "    print(len(data_list_enc), \"\\n\")\n",
    "\n",
    "    for i in range(len(data_list)):\n",
    "        print(\"number of complexes:\", len(data_list[i]))\n",
    "        print(\"number of rows:\", len(data_list[i][0]))\n",
    "        print(\"number of columns:\", len(data_list[i][0][0]))\n",
    "        print(\"\\n\")\n",
    "\n",
    "else:\n",
    "    print(\"Total number of files:\", len(data_list_enc), \"\\n\")\n",
    "\n",
    "    for i in range(len(data_list_enc)):\n",
    "        print(\"File\", i)\n",
    "        print(\"number of complexes:\", len(data_list_enc[i]))\n",
    "        print(\"number of rows:\", len(data_list_enc[i][0]))\n",
    "        print(\"number of columns:\", len(data_list_enc[i][0][0]))\n",
    "        print(\"\\n\")"
   ]
  },
  {
   "cell_type": "code",
   "execution_count": 12,
   "id": "d642772f",
   "metadata": {
    "execution": {
     "iopub.execute_input": "2021-12-03T21:52:51.586009Z",
     "iopub.status.busy": "2021-12-03T21:52:51.585066Z",
     "iopub.status.idle": "2021-12-03T21:52:51.588720Z",
     "shell.execute_reply": "2021-12-03T21:52:51.589475Z"
    },
    "papermill": {
     "duration": 0.109285,
     "end_time": "2021-12-03T21:52:51.589718",
     "exception": false,
     "start_time": "2021-12-03T21:52:51.480433",
     "status": "completed"
    },
    "tags": []
   },
   "outputs": [
    {
     "name": "stdout",
     "output_type": "stream",
     "text": [
      "5\n",
      "1526\n",
      "420\n",
      "801\n"
     ]
    }
   ],
   "source": [
    "print(len(data_list_enc))\n",
    "print(len(data_list_enc[0]))\n",
    "print(len(data_list_enc[0][0]))\n",
    "print(len(data_list_enc[0][0][0]))"
   ]
  },
  {
   "cell_type": "code",
   "execution_count": 13,
   "id": "5b04c913",
   "metadata": {
    "execution": {
     "iopub.execute_input": "2021-12-03T21:52:51.805100Z",
     "iopub.status.busy": "2021-12-03T21:52:51.794728Z",
     "iopub.status.idle": "2021-12-03T21:53:30.422071Z",
     "shell.execute_reply": "2021-12-03T21:53:30.422819Z"
    },
    "papermill": {
     "duration": 38.735693,
     "end_time": "2021-12-03T21:53:30.423069",
     "exception": false,
     "start_time": "2021-12-03T21:52:51.687376",
     "status": "completed"
    },
    "tags": []
   },
   "outputs": [
    {
     "name": "stdout",
     "output_type": "stream",
     "text": [
      "Training set shape: 4174 420 801\n"
     ]
    },
    {
     "name": "stdout",
     "output_type": "stream",
     "text": [
      "Validation set shape: 1532 420 801\n"
     ]
    },
    {
     "name": "stdout",
     "output_type": "stream",
     "text": [
      "Test set shape: 1207 420 801\n"
     ]
    },
    {
     "data": {
      "text/plain": [
       "0"
      ]
     },
     "execution_count": 13,
     "metadata": {},
     "output_type": "execute_result"
    }
   ],
   "source": [
    "#Train\n",
    "X_train = np.concatenate(data_list_enc[0:3])\n",
    "y_train = np.concatenate(target_list[0:3])\n",
    "nsamples, nx, ny = X_train.shape\n",
    "print(\"Training set shape:\", nsamples, nx, ny)\n",
    "\n",
    "#Features and Residues\n",
    "features = list(range(ny))\n",
    "residues = list(range(nx)) \n",
    "n_features = len(features)\n",
    "input_size = len(residues)\n",
    "\n",
    "train_ds = []\n",
    "for i in range(len(X_train)):\n",
    "    train_ds.append([np.transpose(X_train[i][:,features]), y_train[i]])\n",
    "del X_train, y_train\n",
    "gc.collect()\n",
    "train_ldr = torch.utils.data.DataLoader(train_ds,batch_size=bat_size, shuffle=True)\n",
    "del train_ds\n",
    "gc.collect()\n",
    "\n",
    "\n",
    "\n",
    "#Validation\n",
    "X_valid = np.concatenate(data_list_enc[3:4])\n",
    "y_valid = np.concatenate(target_list[3:4])\n",
    "nsamples, nx, ny = X_valid.shape\n",
    "print(\"Validation set shape:\", nsamples, nx, ny)\n",
    "len_X_valid = len(X_valid)\n",
    "val_ds = []\n",
    "for i in range(len(X_valid)):\n",
    "    val_ds.append([np.transpose(X_valid[i][:,features]), y_valid[i]])\n",
    "del X_valid, y_valid\n",
    "gc.collect()\n",
    "val_ldr = torch.utils.data.DataLoader(val_ds,batch_size=bat_size, shuffle=True)\n",
    "\n",
    "del val_ds\n",
    "gc.collect()\n",
    "\n",
    "\n",
    "\n",
    "#Test\n",
    "X_test = np.concatenate(data_list_enc[4:])\n",
    "y_test = np.concatenate(target_list[4:])\n",
    "nsamples, nx, ny = X_test.shape\n",
    "print(\"Test set shape:\", nsamples,nx,ny)\n",
    "\n",
    "test_ds = []\n",
    "for i in range(len(X_test)):\n",
    "    test_ds.append([np.transpose(X_test[i][:,features]), y_test[i]])\n",
    "test_ldr = torch.utils.data.DataLoader(test_ds,batch_size=len(test_ds), shuffle=True) ## Test at once\n",
    "\n",
    "del X_test, y_test, test_ds\n",
    "gc.collect()\n"
   ]
  },
  {
   "cell_type": "code",
   "execution_count": 14,
   "id": "1153ff8d",
   "metadata": {
    "execution": {
     "iopub.execute_input": "2021-12-03T21:53:30.627779Z",
     "iopub.status.busy": "2021-12-03T21:53:30.626843Z",
     "iopub.status.idle": "2021-12-03T22:13:08.763575Z",
     "shell.execute_reply": "2021-12-03T22:13:08.764525Z"
    },
    "papermill": {
     "duration": 1178.236352,
     "end_time": "2021-12-03T22:13:08.764849",
     "exception": false,
     "start_time": "2021-12-03T21:53:30.528497",
     "status": "completed"
    },
    "tags": []
   },
   "outputs": [
    {
     "name": "stdout",
     "output_type": "stream",
     "text": [
      "Parameters:\n",
      "cross_validation False\n",
      "embedding msa\n",
      "numHN 26\n",
      "numFilter 100\n",
      "dropOutRate 0.3\n",
      "esm_1b_separated True\n",
      "keep_energy False\n",
      "num_classes 1\n",
      "learning_rate 0.001\n",
      "bat_size 128\n",
      "patience 10\n",
      "criterion BCEWithLogitsLoss()\n",
      "\n",
      "\n",
      "\n"
     ]
    },
    {
     "name": "stdout",
     "output_type": "stream",
     "text": [
      "Epoch 0  \t Train loss: 0.00446 \t Validation loss: 0.00412\n"
     ]
    },
    {
     "name": "stdout",
     "output_type": "stream",
     "text": [
      "Epoch 5  \t Train loss: 0.00265 \t Validation loss: 0.00282\n"
     ]
    },
    {
     "name": "stdout",
     "output_type": "stream",
     "text": [
      "Epoch 10  \t Train loss: 0.00206 \t Validation loss: 0.00277\n"
     ]
    },
    {
     "name": "stdout",
     "output_type": "stream",
     "text": [
      "Epoch 15  \t Train loss: 0.00151 \t Validation loss: 0.00321\n"
     ]
    },
    {
     "name": "stdout",
     "output_type": "stream",
     "text": [
      "Epoch 20  \t Train loss: 0.00102 \t Validation loss: 0.00324\n"
     ]
    },
    {
     "name": "stdout",
     "output_type": "stream",
     "text": [
      "Early stopping\n",
      "\n"
     ]
    },
    {
     "name": "stdout",
     "output_type": "stream",
     "text": [
      "Done in 19.64 mins.\n",
      "test_acc, test_auc:\n",
      "0.8616404308202155 , 0.7702892492281065\n"
     ]
    }
   ],
   "source": [
    "###############################\n",
    "###    CNN+RNN (thesis)     ###\n",
    "###############################\n",
    "start = time.time()\n",
    "\n",
    "if cross_validation == False:\n",
    "    \n",
    "    print(\"Parameters:\")\n",
    "    print(\"cross_validation\", cross_validation)\n",
    "    print(\"embedding\", embedding)\n",
    "    print(\"numHN\", numHN)\n",
    "    print(\"numFilter\", numFilter)\n",
    "    print(\"dropOutRate\", dropOutRate)\n",
    "    print(\"esm_1b_separated\", esm_1b_separated) \n",
    "    print(\"keep_energy\", keep_energy)\n",
    "    print(\"num_classes\", num_classes)\n",
    "    print(\"learning_rate\", learning_rate)\n",
    "    print(\"bat_size\", bat_size)\n",
    "    print(\"patience\", patience)\n",
    "    print(\"criterion\", criterion)\n",
    "    print(\"\\n\\n\")\n",
    "    \n",
    "    #-------- Train --------#\n",
    "\n",
    "    # Initialize network\n",
    "    net = Net_project_simple_CNN_RNN(num_classes=num_classes, \n",
    "             n_features=n_features, \n",
    "             numHN_lstm=numHN, \n",
    "             numFilter=numFilter,\n",
    "             dropOutRate=dropOutRate).to(device)\n",
    "    \n",
    "    optimizer = optim.Adam(net.parameters(), lr=learning_rate,\n",
    "                           weight_decay=weight_decay,\n",
    "                           amsgrad=True,)\n",
    "    \n",
    "    train_acc, train_losses, train_auc, valid_acc, valid_losses, valid_auc, val_preds, val_targs, test_preds, test_targs, test_loss, test_acc, test_auc = func.train_project(net, optimizer, train_ldr, val_ldr, test_ldr, len_X_valid, epochs, criterion, patience)\n",
    "\n",
    "else:\n",
    "    pass\n",
    "\n",
    "print(\"Done in\", round((time.time()-start)/60,2), \"mins.\" )\n",
    "\n",
    "print(\"test_acc, test_auc:\")\n",
    "print(test_acc[0], \",\", test_auc[0])\n"
   ]
  },
  {
   "cell_type": "code",
   "execution_count": 15,
   "id": "12ec0ebb",
   "metadata": {
    "execution": {
     "iopub.execute_input": "2021-12-03T22:13:08.913152Z",
     "iopub.status.busy": "2021-12-03T22:13:08.891371Z",
     "iopub.status.idle": "2021-12-03T22:13:09.846739Z",
     "shell.execute_reply": "2021-12-03T22:13:09.847694Z"
    },
    "papermill": {
     "duration": 1.022077,
     "end_time": "2021-12-03T22:13:09.847994",
     "exception": false,
     "start_time": "2021-12-03T22:13:08.825917",
     "status": "completed"
    },
    "tags": []
   },
   "outputs": [
    {
     "data": {
      "image/png": "[encoded data removed]",
      "text/plain": [
       "<Figure size 432x288 with 1 Axes>"
      ]
     },
     "metadata": {
      "needs_background": "light"
     },
     "output_type": "display_data"
    },
    {
     "data": {
      "image/png": "[encoded data removed]",
      "text/plain": [
       "<Figure size 432x288 with 1 Axes>"
      ]
     },
     "metadata": {
      "needs_background": "light"
     },
     "output_type": "display_data"
    },
    {
     "data": {
      "image/png": "[encoded data removed]",
      "text/plain": [
       "<Figure size 432x288 with 1 Axes>"
      ]
     },
     "metadata": {
      "needs_background": "light"
     },
     "output_type": "display_data"
    },
    {
     "name": "stdout",
     "output_type": "stream",
     "text": [
      "AUC:  0.7702892492281065\n",
      "MCC:  0.6058096646954626\n"
     ]
    },
    {
     "data": {
      "image/png": "[encoded data removed]",
      "text/plain": [
       "<Figure size 432x288 with 2 Axes>"
      ]
     },
     "metadata": {
      "needs_background": "light"
     },
     "output_type": "display_data"
    },
    {
     "name": "stdout",
     "output_type": "stream",
     "text": [
      "AUC: 0.770\n",
      "167\n"
     ]
    },
    {
     "data": {
      "image/png": "[encoded data removed]",
      "text/plain": [
       "<Figure size 576x432 with 1 Axes>"
      ]
     },
     "metadata": {
      "needs_background": "light"
     },
     "output_type": "display_data"
    },
    {
     "name": "stdout",
     "output_type": "stream",
     "text": [
      "AUC:  0.7702892492281065\n",
      "MCC:  0.6058096646954626\n",
      "ACC:  0.8616404308202155\n"
     ]
    }
   ],
   "source": [
    "#-------- Performance --------#\n",
    "\n",
    "epoch = np.arange(1,len(train_losses)+1)\n",
    "plt.figure()\n",
    "plt.plot(epoch, train_losses, 'r', epoch, valid_losses, 'b')\n",
    "plt.legend(['Train Loss','Validation Loss'])\n",
    "plt.xlabel('Epoch'), plt.ylabel('Loss')\n",
    "\n",
    "epoch = np.arange(1,len(train_auc)+1)\n",
    "plt.figure()\n",
    "plt.plot(epoch, train_auc, 'r', epoch, valid_auc, 'b')\n",
    "plt.legend(['Train AUC','Validation AUC'])\n",
    "plt.xlabel('Epoch'), plt.ylabel('AUC')\n",
    "\n",
    "epoch = np.arange(1,len(train_acc)+1)\n",
    "plt.figure()\n",
    "plt.plot(epoch, train_acc, 'r', epoch, valid_acc, 'b')\n",
    "plt.legend(['Train Accuracy','Validation Accuracy'])\n",
    "plt.xlabel('Epoch'), plt.ylabel('Acc')\n",
    "plt.show()\n",
    "\n",
    "\n",
    "#-------- Save results --------#\n",
    "\n",
    "results_dir = 'results'\n",
    "\n",
    "try:\n",
    "    os.mkdir(results_dir)\n",
    "except:\n",
    "    pass\n",
    "\n",
    "plots_dir = 'results/plots'\n",
    "\n",
    "try:\n",
    "    os.mkdir(plots_dir)\n",
    "except:\n",
    "    pass\n",
    "\n",
    "results = pd.DataFrame(list(zip( (int(x) for x in test_targs), (int(x) for x in test_preds))),columns =['target', 'pred'])\n",
    "\n",
    "#print(results)\n",
    "results.to_csv('results/targets_vs_preds_emb_{}_HN_{}_nFilt_{}_do_{}_energy_{}_separated_{}.csv'.format(embedding,numHN,numFilter,int(dropOutRate*10), keep_energy, str(esm_1b_separated)), index=False)\n",
    "\n",
    "\n",
    "#-------- Performance Evaluation --------#\n",
    "# The results change every time we train, we should check why (maybe we missed something or did wrong with the seeds?)\n",
    "\n",
    "print(\"AUC: \", roc_auc_score(results['target'], results['pred']))\n",
    "print(\"MCC: \", matthews_corrcoef(results['target'], results['pred']))\n",
    "\n",
    "confusion_matrix = pd.crosstab(results['target'], results['pred'], rownames=['Actual'], colnames=['Predicted'])\n",
    "sn.heatmap(confusion_matrix, annot=True, cmap='Blues', fmt='g')\n",
    "plt.show()\n",
    "\n",
    "# Plot roc curve\n",
    "\n",
    "fpr, tpr, thres = roc_curve(results['target'], results['pred'])\n",
    "print('AUC: {:.3f}'.format(roc_auc_score(results['target'], results['pred'])))\n",
    "\n",
    "print( len([i for i, (a, b) in enumerate(zip(results['pred'], results['target'])) if a != b]))\n",
    "\n",
    "plt.figure(figsize=(8,6))\n",
    "\n",
    "# roc curve\n",
    "plt.plot(fpr, tpr, \"b\", label='ROC Curve')\n",
    "plt.plot([0,1],[0,1], \"k--\", label='Random Guess')\n",
    "plt.xlabel(\"false positive rate\")\n",
    "plt.ylabel(\"true positive rate\")\n",
    "plt.legend(loc=\"best\")\n",
    "plt.title(\"ROC curve\")\n",
    "\n",
    "plt.savefig('results/plots/targets_vs_preds_emb_{}_HN_{}_nFilt_{}_do_{}_energy_{}_separated_{}_ROC.png'.format(embedding,numHN,numFilter,int(dropOutRate*10), keep_energy, str(esm_1b_separated)))\n",
    "plt.show()\n",
    "\n",
    "AUC = roc_auc_score(results['target'], results['pred'])\n",
    "MCC = matthews_corrcoef(results['target'], results['pred'])\n",
    "ACC = accuracy_score(results['target'], results['pred'])\n",
    "print(\"AUC: \", AUC)\n",
    "print(\"MCC: \", MCC)\n",
    "print(\"ACC: \", ACC)"
   ]
  },
  {
   "cell_type": "code",
   "execution_count": 16,
   "id": "8218f21b",
   "metadata": {
    "execution": {
     "iopub.execute_input": "2021-12-03T22:13:10.023290Z",
     "iopub.status.busy": "2021-12-03T22:13:10.022703Z",
     "iopub.status.idle": "2021-12-03T22:13:14.230238Z",
     "shell.execute_reply": "2021-12-03T22:13:14.231207Z"
    },
    "papermill": {
     "duration": 4.291011,
     "end_time": "2021-12-03T22:13:14.231511",
     "exception": false,
     "start_time": "2021-12-03T22:13:09.940500",
     "status": "completed"
    },
    "tags": []
   },
   "outputs": [
    {
     "name": "stdout",
     "output_type": "stream",
     "text": [
      "hyperparameter grid\n",
      "Name: hyperparameter grid\n",
      "Experiment_id: 1\n",
      "Artifact Location: file:///home/shannara/DL_02456/workstation/mlruns/1\n"
     ]
    }
   ],
   "source": [
    "#storing values\n",
    "import mlflow\n",
    "import mlflow.sklearn\n",
    "\n",
    "print(name_experiment)\n",
    "exp = mlflow.set_experiment(name_experiment)\n",
    "experiment = mlflow.get_experiment(exp.experiment_id)\n",
    "\n",
    "print(\"Name: {}\".format(experiment.name))\n",
    "print(\"Experiment_id: {}\".format(experiment.experiment_id))\n",
    "print(\"Artifact Location: {}\".format(experiment.artifact_location))\n",
    "\n",
    "with mlflow.start_run():\n",
    "    mlflow.log_param('embedding', embedding) \n",
    "    \n",
    "    mlflow.log_param('esm_1b_separated', str(esm_1b_separated)) ### update\n",
    "    \n",
    "    mlflow.log_param('Hidden Neurons', numHN)\n",
    "    mlflow.log_param('filters CNN', numFilter)\n",
    "    mlflow.log_param('Dropout rate', dropOutRate)\n",
    "    mlflow.log_param('learning rate', learning_rate)\n",
    "    mlflow.log_param('Weight decay', weight_decay)\n",
    "    \n",
    "    mlflow.log_metric('test AUC', AUC)\n",
    "    mlflow.log_metric('test MCC', MCC)\n",
    "    mlflow.log_metric('test ACC', ACC)\n",
    "    \n",
    "    mlflow.log_metric('train ACC', train_acc[-1])\n",
    "    mlflow.log_metric('train AUC', train_auc[-1])\n",
    "    mlflow.log_metric('valid ACC', valid_acc[-1])\n",
    "    mlflow.log_metric('valid AUC', valid_auc[-1])\n"
   ]
  },
  {
   "cell_type": "code",
   "execution_count": 17,
   "id": "fab2b2e8",
   "metadata": {
    "execution": {
     "iopub.execute_input": "2021-12-03T22:13:14.428228Z",
     "iopub.status.busy": "2021-12-03T22:13:14.427426Z",
     "iopub.status.idle": "2021-12-03T22:13:14.436103Z",
     "shell.execute_reply": "2021-12-03T22:13:14.436752Z"
    },
    "papermill": {
     "duration": 0.109507,
     "end_time": "2021-12-03T22:13:14.436961",
     "exception": false,
     "start_time": "2021-12-03T22:13:14.327454",
     "status": "completed"
    },
    "tags": []
   },
   "outputs": [
    {
     "name": "stdout",
     "output_type": "stream",
     "text": [
      "\n",
      "\n",
      "embedding msa\n",
      "esm_1b_separated True\n",
      "Hidden Neurons 26\n",
      "filters CNN 100\n",
      "Dropout rate 0.3\n",
      "learning rate 0.001\n",
      "Weight decay 0.0001\n",
      "test AUC 0.7702892492281065\n",
      "test MCC 0.6058096646954626\n",
      "test ACC 0.8616404308202155\n",
      "train ACC 0.9528030666027791\n",
      "train AUC 0.9845833241408726\n",
      "valid ACC 0.8805483028720626\n",
      "valid AUC 0.8664907843578364\n"
     ]
    }
   ],
   "source": [
    "from csv import writer\n",
    "\n",
    "\n",
    "print(\"\\n\")\n",
    "print('embedding', embedding) \n",
    "\n",
    "print('esm_1b_separated', str(esm_1b_separated)) ### update\n",
    "\n",
    "print('Hidden Neurons', numHN)\n",
    "print('filters CNN', numFilter)\n",
    "print('Dropout rate', dropOutRate)\n",
    "print('learning rate', learning_rate)\n",
    "print('Weight decay', weight_decay)\n",
    "\n",
    "print('test AUC', AUC)\n",
    "print('test MCC', MCC)\n",
    "print('test ACC', ACC)\n",
    "\n",
    "print('train ACC', train_acc[-1])\n",
    "print('train AUC', train_auc[-1])\n",
    "print('valid ACC', valid_acc[-1])\n",
    "print('valid AUC', valid_auc[-1])\n",
    "\n",
    "\n",
    "#List = ['embedding', 'numHN', 'numFilter', 'dropOutRate', 'learning_rate', 'weight_decay', 'AUC', 'MCC', 'ACC', 'train_acc', 'train_auc', 'valid_acc', 'valid_auc' ]\n",
    "List = [embedding, numHN, numFilter, dropOutRate, learning_rate, weight_decay, AUC, MCC, ACC, train_acc[-1], train_auc[-1], valid_acc[-1], valid_auc[-1] ]\n",
    "\n",
    "with open('separated_results.csv', 'a') as f_object:\n",
    "    writer_object = writer(f_object)\n",
    "  \n",
    "    writer_object.writerow(List)\n",
    "  \n",
    "    f_object.close()"
   ]
  }
 ],
 "metadata": {
  "celltoolbar": "Tags",
  "kernelspec": {
   "display_name": "Python 3",
   "language": "python",
   "name": "python3"
  },
  "language_info": {
   "codemirror_mode": {
    "name": "ipython",
    "version": 3
   },
   "file_extension": ".py",
   "mimetype": "text/x-python",
   "name": "python",
   "nbconvert_exporter": "python",
   "pygments_lexer": "ipython3",
   "version": "3.8.5"
  },
  "papermill": {
   "default_parameters": {},
   "duration": 1246.893842,
   "end_time": "2021-12-03T22:13:17.228112",
   "environment_variables": {},
   "exception": null,
   "input_path": "main3_workstation.ipynb",
   "output_path": "notebooks/20211203_14-11-17_main3_encoding_msa_numHN_26_filters_100_dr_3_lr_0001_wc_00001_separated_True.ipynb",
   "parameters": {
    "dropOutRate": 0.3,
    "embedding": "msa",
    "esm_1b_separated": true,
    "learning_rate": 0.001,
    "name_experiment": "hyperparameter grid",
    "numFilter": 100,
    "numHN": 26,
    "weight_decay": 0.0001
   },
   "start_time": "2021-12-03T21:52:30.334270",
   "version": "2.3.3"
  }
 },
 "nbformat": 4,
 "nbformat_minor": 5
}