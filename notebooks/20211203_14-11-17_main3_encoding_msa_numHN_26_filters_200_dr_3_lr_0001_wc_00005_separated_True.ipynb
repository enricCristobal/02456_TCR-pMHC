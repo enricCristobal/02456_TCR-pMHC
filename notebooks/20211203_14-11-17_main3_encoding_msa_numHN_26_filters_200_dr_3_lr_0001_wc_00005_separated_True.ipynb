{
 "cells": [
  {
   "cell_type": "code",
   "execution_count": 1,
   "id": "3b260f2f",
   "metadata": {
    "execution": {
     "iopub.execute_input": "2021-12-03T23:23:00.176087Z",
     "iopub.status.busy": "2021-12-03T23:23:00.175105Z",
     "iopub.status.idle": "2021-12-03T23:23:02.548909Z",
     "shell.execute_reply": "2021-12-03T23:23:02.549401Z"
    },
    "papermill": {
     "duration": 2.443066,
     "end_time": "2021-12-03T23:23:02.549650",
     "exception": false,
     "start_time": "2021-12-03T23:23:00.106584",
     "status": "completed"
    },
    "tags": []
   },
   "outputs": [],
   "source": [
    "#-------- Import Libraries --------#\n",
    "\n",
    "import torch\n",
    "import time\n",
    "import os\n",
    "import gc\n",
    "import sys\n",
    "import random\n",
    "import pickle\n",
    "import mlflow\n",
    "import numpy as np\n",
    "import pandas as pd\n",
    "import torch.nn as nn\n",
    "import seaborn as sn\n",
    "import matplotlib.pyplot as plt\n",
    "from datetime import date\n",
    "import collections\n",
    "from sklearn.metrics import matthews_corrcoef\n",
    "import torch.optim as optim  # For all Optimization algorithms, SGD, Adam, etc.\n",
    "import torch.nn.functional as F  # All functions that don't have any parameters\n",
    "from sklearn.metrics import accuracy_score, roc_auc_score, roc_curve, auc"
   ]
  },
  {
   "cell_type": "code",
   "execution_count": 2,
   "id": "3423c37a-4b59-4a1f-93f8-4ef70f490869",
   "metadata": {
    "execution": {
     "iopub.execute_input": "2021-12-03T23:23:02.630366Z",
     "iopub.status.busy": "2021-12-03T23:23:02.629404Z",
     "iopub.status.idle": "2021-12-03T23:23:02.635142Z",
     "shell.execute_reply": "2021-12-03T23:23:02.635612Z"
    },
    "papermill": {
     "duration": 0.048157,
     "end_time": "2021-12-03T23:23:02.635778",
     "exception": false,
     "start_time": "2021-12-03T23:23:02.587621",
     "status": "completed"
    },
    "tags": []
   },
   "outputs": [],
   "source": [
    "#-------- Import Modules from project--------#\n",
    "import encoding as enc\n",
    "from model import Net, Net_thesis, Net_project, Net_project_simple_CNN_RNN\n",
    "import functions as func"
   ]
  },
  {
   "cell_type": "code",
   "execution_count": 3,
   "id": "c4211d09",
   "metadata": {
    "execution": {
     "iopub.execute_input": "2021-12-03T23:23:02.716346Z",
     "iopub.status.busy": "2021-12-03T23:23:02.715667Z",
     "iopub.status.idle": "2021-12-03T23:23:02.718879Z",
     "shell.execute_reply": "2021-12-03T23:23:02.719340Z"
    },
    "papermill": {
     "duration": 0.04616,
     "end_time": "2021-12-03T23:23:02.719516",
     "exception": false,
     "start_time": "2021-12-03T23:23:02.673356",
     "status": "completed"
    },
    "tags": []
   },
   "outputs": [
    {
     "name": "stdout",
     "output_type": "stream",
     "text": [
      "No GPUs available. Using CPU instead.\n"
     ]
    }
   ],
   "source": [
    "#-------- Set Device --------#\n",
    "\n",
    "if torch.cuda.is_available():\n",
    "    device = torch.device('cuda')\n",
    "    print('There are %d GPU(s) available.' % torch.cuda.device_count())\n",
    "else:\n",
    "    print('No GPUs available. Using CPU instead.')\n",
    "    device = torch.device('cpu')"
   ]
  },
  {
   "cell_type": "code",
   "execution_count": 4,
   "id": "cd5adc66",
   "metadata": {
    "execution": {
     "iopub.execute_input": "2021-12-03T23:23:02.802585Z",
     "iopub.status.busy": "2021-12-03T23:23:02.801786Z",
     "iopub.status.idle": "2021-12-03T23:23:02.805158Z",
     "shell.execute_reply": "2021-12-03T23:23:02.805624Z"
    },
    "papermill": {
     "duration": 0.047483,
     "end_time": "2021-12-03T23:23:02.805801",
     "exception": false,
     "start_time": "2021-12-03T23:23:02.758318",
     "status": "completed"
    },
    "tags": []
   },
   "outputs": [],
   "source": [
    "#-------- Seeds --------#\n",
    "\n",
    "seed_val = 42\n",
    "\n",
    "random.seed(seed_val)\n",
    "np.random.seed(seed_val)\n",
    "torch.manual_seed(seed_val)\n",
    "torch.cuda.manual_seed_all(seed_val)\n",
    "\n",
    "torch.use_deterministic_algorithms(True)"
   ]
  },
  {
   "cell_type": "code",
   "execution_count": 5,
   "id": "4f33ea7b",
   "metadata": {
    "execution": {
     "iopub.execute_input": "2021-12-03T23:23:02.888526Z",
     "iopub.status.busy": "2021-12-03T23:23:02.887738Z",
     "iopub.status.idle": "2021-12-03T23:23:02.890018Z",
     "shell.execute_reply": "2021-12-03T23:23:02.890476Z"
    },
    "papermill": {
     "duration": 0.04544,
     "end_time": "2021-12-03T23:23:02.890641",
     "exception": false,
     "start_time": "2021-12-03T23:23:02.845201",
     "status": "completed"
    },
    "tags": []
   },
   "outputs": [],
   "source": [
    "#-------- Import Modules from project--------#\n",
    "\n",
    "import encoding as enc\n",
    "from model import Net_project\n",
    "import functions as func\n"
   ]
  },
  {
   "cell_type": "code",
   "execution_count": 6,
   "id": "4b37f634",
   "metadata": {
    "execution": {
     "iopub.execute_input": "2021-12-03T23:23:02.978323Z",
     "iopub.status.busy": "2021-12-03T23:23:02.977331Z",
     "iopub.status.idle": "2021-12-03T23:23:02.994534Z",
     "shell.execute_reply": "2021-12-03T23:23:02.995049Z"
    },
    "papermill": {
     "duration": 0.065209,
     "end_time": "2021-12-03T23:23:02.995244",
     "exception": false,
     "start_time": "2021-12-03T23:23:02.930035",
     "status": "completed"
    },
    "tags": []
   },
   "outputs": [
    {
     "name": "stdout",
     "output_type": "stream",
     "text": [
      "1\n",
      "P1_input.npz\n",
      "2\n",
      "P2_input.npz\n",
      "3\n",
      "P3_input.npz\n",
      "4\n",
      "P4_input.npz\n",
      "5\n",
      "P5_input.npz\n",
      "\n",
      "Number of files: 5\n",
      "File: 0\n",
      "{1.0: 380, 0.0: 1146} \n",
      "\n",
      "File: 1\n",
      "{1.0: 292, 0.0: 876} \n",
      "\n",
      "File: 2\n",
      "{1.0: 370, 0.0: 1110} \n",
      "\n",
      "File: 3\n",
      "{1.0: 383, 0.0: 1149} \n",
      "\n",
      "File: 4\n",
      "{1.0: 301, 0.0: 906} \n",
      "\n",
      "Size of file 1 1526\n",
      "Size of file 2 1168\n",
      "Size of file 3 1480\n",
      "Size of file 4 1532\n",
      "Size of file 5 1207\n"
     ]
    }
   ],
   "source": [
    "#-------- Import Dataset --------#\n",
    "\n",
    "#data_list = []\n",
    "target_list = []\n",
    "\n",
    "import glob\n",
    "for i in range(5):\n",
    "    i = i+1\n",
    "    print(i)\n",
    "    for fp in glob.glob(\"*{}*input.npz\".format(i)):\n",
    "        print(fp)\n",
    "        #data = np.load(fp)[\"arr_0\"]\n",
    "        targets = np.load(fp.replace(\"input\", \"labels\"))[\"arr_0\"]\n",
    "        #data_list.append(data)\n",
    "        target_list.append(targets)\n",
    "\n",
    "data_partitions = len(target_list)\n",
    "\n",
    "print(\"\\nNumber of files:\", data_partitions)\n",
    "\n",
    "for i in range(len(target_list)):\n",
    "    print(\"File:\", i)\n",
    "    frequency = collections.Counter(target_list[i])\n",
    "    print(dict(frequency), \"\\n\")\n",
    "    \n",
    "data_partitions = len(target_list)\n",
    "for i in range(data_partitions):\n",
    "    print(\"Size of file\", i+1, len(target_list[i]))"
   ]
  },
  {
   "cell_type": "code",
   "execution_count": 7,
   "id": "a9897fc5",
   "metadata": {
    "execution": {
     "iopub.execute_input": "2021-12-03T23:23:03.083750Z",
     "iopub.status.busy": "2021-12-03T23:23:03.082733Z",
     "iopub.status.idle": "2021-12-03T23:23:03.084818Z",
     "shell.execute_reply": "2021-12-03T23:23:03.085601Z"
    },
    "papermill": {
     "duration": 0.04956,
     "end_time": "2021-12-03T23:23:03.085864",
     "exception": false,
     "start_time": "2021-12-03T23:23:03.036304",
     "status": "completed"
    },
    "tags": [
     "parameters"
    ]
   },
   "outputs": [],
   "source": [
    "#-------- Select the network you would like to use -------#\n",
    "\n",
    "CNN = False # ONLY CNN\n",
    "CNN_RNN = True # CNN + RNN\n",
    "\n",
    "# Type of embedding\n",
    "embedding = \"msa\"   #\"asm\"\n",
    "keep_energy = True\n",
    "\n",
    "esm_1b_separated = True   ### update\n",
    "if esm_1b_separated:       ### update\n",
    "    keep_energy = False\n",
    "\n",
    "# Hyperparameters to fine-tune\n",
    "numHN = 32\n",
    "numFilter = 100\n",
    "dropOutRate = 0.1\n",
    "learning_rate = 0.001\n",
    "weight_decay = 0.0001\n",
    "\n",
    "# For ml-flow\n",
    "name_experiment = \"hyperparameter_grid\"\n",
    "\n",
    "\n",
    "##--- parameters fixed\n",
    "cross_validation = False\n",
    "bat_size = 128\n",
    "num_classes=1\n",
    "epochs = 100\n",
    "patience=10\n",
    "criterion = nn.BCEWithLogitsLoss()\n",
    "    "
   ]
  },
  {
   "cell_type": "code",
   "execution_count": 8,
   "id": "eb86ac04",
   "metadata": {
    "execution": {
     "iopub.execute_input": "2021-12-03T23:23:03.255974Z",
     "iopub.status.busy": "2021-12-03T23:23:03.254969Z",
     "iopub.status.idle": "2021-12-03T23:23:03.257386Z",
     "shell.execute_reply": "2021-12-03T23:23:03.258157Z"
    },
    "papermill": {
     "duration": 0.091077,
     "end_time": "2021-12-03T23:23:03.258441",
     "exception": false,
     "start_time": "2021-12-03T23:23:03.167364",
     "status": "completed"
    },
    "tags": [
     "injected-parameters"
    ]
   },
   "outputs": [],
   "source": [
    "# Parameters\n",
    "embedding = \"msa\"\n",
    "numHN = 26\n",
    "numFilter = 200\n",
    "dropOutRate = 0.3\n",
    "esm_1b_separated = True\n",
    "learning_rate = 0.001\n",
    "weight_decay = 0.0005\n",
    "name_experiment = \"hyperparameter grid\"\n"
   ]
  },
  {
   "cell_type": "code",
   "execution_count": 9,
   "id": "b820a879",
   "metadata": {
    "execution": {
     "iopub.execute_input": "2021-12-03T23:23:03.427890Z",
     "iopub.status.busy": "2021-12-03T23:23:03.426903Z",
     "iopub.status.idle": "2021-12-03T23:23:03.429369Z",
     "shell.execute_reply": "2021-12-03T23:23:03.430077Z"
    },
    "papermill": {
     "duration": 0.090366,
     "end_time": "2021-12-03T23:23:03.430347",
     "exception": false,
     "start_time": "2021-12-03T23:23:03.339981",
     "status": "completed"
    },
    "tags": []
   },
   "outputs": [],
   "source": [
    "data_list_enc = list() ### update"
   ]
  },
  {
   "cell_type": "code",
   "execution_count": 10,
   "id": "f46dc5c6",
   "metadata": {
    "execution": {
     "iopub.execute_input": "2021-12-03T23:23:03.606309Z",
     "iopub.status.busy": "2021-12-03T23:23:03.605338Z",
     "iopub.status.idle": "2021-12-03T23:23:13.641101Z",
     "shell.execute_reply": "2021-12-03T23:23:13.641796Z"
    },
    "papermill": {
     "duration": 10.129777,
     "end_time": "2021-12-03T23:23:13.642024",
     "exception": false,
     "start_time": "2021-12-03T23:23:03.512247",
     "status": "completed"
    },
    "tags": []
   },
   "outputs": [
    {
     "name": "stdout",
     "output_type": "stream",
     "text": [
      "MSA File 1 is loaded.\n"
     ]
    },
    {
     "name": "stdout",
     "output_type": "stream",
     "text": [
      "MSA File 2 is loaded.\n"
     ]
    },
    {
     "name": "stdout",
     "output_type": "stream",
     "text": [
      "MSA File 3 is loaded.\n"
     ]
    },
    {
     "name": "stdout",
     "output_type": "stream",
     "text": [
      "MSA File 4 is loaded.\n"
     ]
    },
    {
     "name": "stdout",
     "output_type": "stream",
     "text": [
      "MSA File 5 is loaded.\n",
      "Done\n"
     ]
    }
   ],
   "source": [
    "#embedding of data\n",
    "\n",
    "try:\n",
    "    os.mkdir(embedding_dir)\n",
    "except:\n",
    "    pass\n",
    "\n",
    "#try to fecth if already exist\n",
    "if embedding == \"Baseline\":   \n",
    "    data_list_enc = data_list\n",
    "    \n",
    "elif embedding == \"esm-1b\":\n",
    "    if esm_1b_separated == False:\n",
    "        pass\n",
    "            \n",
    "    if esm_1b_separated == True:\n",
    "        for file_index in range(5):\n",
    "            \n",
    "            infile = open('esm-energies-file-updated-{}.pkl'.format(file_index+1), 'rb')\n",
    "            encoding = pickle.load(infile)\n",
    "            data_list_enc.append(encoding)\n",
    "            del encoding\n",
    "            gc.collect()\n",
    "            infile.close()\n",
    "            print(\"ESM File\", file_index+1, \"is loaded.\")\n",
    "            \n",
    "else: #msa\n",
    "    if esm_1b_separated == False:\n",
    "        pass\n",
    "            \n",
    "    if esm_1b_separated == True:\n",
    "        for file_index in range(5):\n",
    "            \n",
    "            infile = open('esm-energies-file-MSA-{}.pkl'.format(file_index+1), 'rb')\n",
    "            encoding = pickle.load(infile)\n",
    "            data_list_enc.append(encoding) \n",
    "            infile.close()\n",
    "            print(\"MSA File\", file_index+1, \"is loaded.\")\n",
    "    \n",
    "print(\"Done\")"
   ]
  },
  {
   "cell_type": "code",
   "execution_count": 11,
   "id": "d0702979",
   "metadata": {
    "execution": {
     "iopub.execute_input": "2021-12-03T23:23:13.831849Z",
     "iopub.status.busy": "2021-12-03T23:23:13.828970Z",
     "iopub.status.idle": "2021-12-03T23:23:13.841393Z",
     "shell.execute_reply": "2021-12-03T23:23:13.840642Z"
    },
    "papermill": {
     "duration": 0.10888,
     "end_time": "2021-12-03T23:23:13.841576",
     "exception": false,
     "start_time": "2021-12-03T23:23:13.732696",
     "status": "completed"
    },
    "tags": []
   },
   "outputs": [
    {
     "name": "stdout",
     "output_type": "stream",
     "text": [
      "Total number of files: 5 \n",
      "\n",
      "File 0\n",
      "number of complexes: 1526\n",
      "number of rows: 420\n",
      "number of columns: 801\n",
      "\n",
      "\n",
      "File 1\n",
      "number of complexes: 1168\n",
      "number of rows: 420\n",
      "number of columns: 801\n",
      "\n",
      "\n",
      "File 2\n",
      "number of complexes: 1480\n",
      "number of rows: 420\n",
      "number of columns: 801\n",
      "\n",
      "\n",
      "File 3\n",
      "number of complexes: 1532\n",
      "number of rows: 420\n",
      "number of columns: 801\n",
      "\n",
      "\n",
      "File 4\n",
      "number of complexes: 1207\n",
      "number of rows: 420\n",
      "number of columns: 801\n",
      "\n",
      "\n"
     ]
    }
   ],
   "source": [
    "#-------- Print Dimentions -------# ### update\n",
    "\n",
    "if embedding == \"baseline\":\n",
    "    print(\"baseline\")\n",
    "    print(len(data_list_enc), \"\\n\")\n",
    "\n",
    "    for i in range(len(data_list)):\n",
    "        print(\"number of complexes:\", len(data_list[i]))\n",
    "        print(\"number of rows:\", len(data_list[i][0]))\n",
    "        print(\"number of columns:\", len(data_list[i][0][0]))\n",
    "        print(\"\\n\")\n",
    "\n",
    "else:\n",
    "    print(\"Total number of files:\", len(data_list_enc), \"\\n\")\n",
    "\n",
    "    for i in range(len(data_list_enc)):\n",
    "        print(\"File\", i)\n",
    "        print(\"number of complexes:\", len(data_list_enc[i]))\n",
    "        print(\"number of rows:\", len(data_list_enc[i][0]))\n",
    "        print(\"number of columns:\", len(data_list_enc[i][0][0]))\n",
    "        print(\"\\n\")"
   ]
  },
  {
   "cell_type": "code",
   "execution_count": 12,
   "id": "d642772f",
   "metadata": {
    "execution": {
     "iopub.execute_input": "2021-12-03T23:23:14.026504Z",
     "iopub.status.busy": "2021-12-03T23:23:14.025569Z",
     "iopub.status.idle": "2021-12-03T23:23:14.029188Z",
     "shell.execute_reply": "2021-12-03T23:23:14.029947Z"
    },
    "papermill": {
     "duration": 0.103487,
     "end_time": "2021-12-03T23:23:14.030198",
     "exception": false,
     "start_time": "2021-12-03T23:23:13.926711",
     "status": "completed"
    },
    "tags": []
   },
   "outputs": [
    {
     "name": "stdout",
     "output_type": "stream",
     "text": [
      "5\n",
      "1526\n",
      "420\n",
      "801\n"
     ]
    }
   ],
   "source": [
    "print(len(data_list_enc))\n",
    "print(len(data_list_enc[0]))\n",
    "print(len(data_list_enc[0][0]))\n",
    "print(len(data_list_enc[0][0][0]))"
   ]
  },
  {
   "cell_type": "code",
   "execution_count": 13,
   "id": "5b04c913",
   "metadata": {
    "execution": {
     "iopub.execute_input": "2021-12-03T23:23:14.159736Z",
     "iopub.status.busy": "2021-12-03T23:23:14.149875Z",
     "iopub.status.idle": "2021-12-03T23:23:41.664811Z",
     "shell.execute_reply": "2021-12-03T23:23:41.665569Z"
    },
    "papermill": {
     "duration": 27.571349,
     "end_time": "2021-12-03T23:23:41.665823",
     "exception": false,
     "start_time": "2021-12-03T23:23:14.094474",
     "status": "completed"
    },
    "tags": []
   },
   "outputs": [
    {
     "name": "stdout",
     "output_type": "stream",
     "text": [
      "Training set shape: 4174 420 801\n"
     ]
    },
    {
     "name": "stdout",
     "output_type": "stream",
     "text": [
      "Validation set shape: 1532 420 801\n"
     ]
    },
    {
     "name": "stdout",
     "output_type": "stream",
     "text": [
      "Test set shape: 1207 420 801\n"
     ]
    },
    {
     "data": {
      "text/plain": [
       "0"
      ]
     },
     "execution_count": 13,
     "metadata": {},
     "output_type": "execute_result"
    }
   ],
   "source": [
    "#Train\n",
    "X_train = np.concatenate(data_list_enc[0:3])\n",
    "y_train = np.concatenate(target_list[0:3])\n",
    "nsamples, nx, ny = X_train.shape\n",
    "print(\"Training set shape:\", nsamples, nx, ny)\n",
    "\n",
    "#Features and Residues\n",
    "features = list(range(ny))\n",
    "residues = list(range(nx)) \n",
    "n_features = len(features)\n",
    "input_size = len(residues)\n",
    "\n",
    "train_ds = []\n",
    "for i in range(len(X_train)):\n",
    "    train_ds.append([np.transpose(X_train[i][:,features]), y_train[i]])\n",
    "del X_train, y_train\n",
    "gc.collect()\n",
    "train_ldr = torch.utils.data.DataLoader(train_ds,batch_size=bat_size, shuffle=True)\n",
    "del train_ds\n",
    "gc.collect()\n",
    "\n",
    "\n",
    "\n",
    "#Validation\n",
    "X_valid = np.concatenate(data_list_enc[3:4])\n",
    "y_valid = np.concatenate(target_list[3:4])\n",
    "nsamples, nx, ny = X_valid.shape\n",
    "print(\"Validation set shape:\", nsamples, nx, ny)\n",
    "len_X_valid = len(X_valid)\n",
    "val_ds = []\n",
    "for i in range(len(X_valid)):\n",
    "    val_ds.append([np.transpose(X_valid[i][:,features]), y_valid[i]])\n",
    "del X_valid, y_valid\n",
    "gc.collect()\n",
    "val_ldr = torch.utils.data.DataLoader(val_ds,batch_size=bat_size, shuffle=True)\n",
    "\n",
    "del val_ds\n",
    "gc.collect()\n",
    "\n",
    "\n",
    "\n",
    "#Test\n",
    "X_test = np.concatenate(data_list_enc[4:])\n",
    "y_test = np.concatenate(target_list[4:])\n",
    "nsamples, nx, ny = X_test.shape\n",
    "print(\"Test set shape:\", nsamples,nx,ny)\n",
    "\n",
    "test_ds = []\n",
    "for i in range(len(X_test)):\n",
    "    test_ds.append([np.transpose(X_test[i][:,features]), y_test[i]])\n",
    "test_ldr = torch.utils.data.DataLoader(test_ds,batch_size=len(test_ds), shuffle=True) ## Test at once\n",
    "\n",
    "del X_test, y_test, test_ds\n",
    "gc.collect()\n"
   ]
  },
  {
   "cell_type": "code",
   "execution_count": 14,
   "id": "1153ff8d",
   "metadata": {
    "execution": {
     "iopub.execute_input": "2021-12-03T23:23:41.850792Z",
     "iopub.status.busy": "2021-12-03T23:23:41.849943Z",
     "iopub.status.idle": "2021-12-03T23:34:39.848314Z",
     "shell.execute_reply": "2021-12-03T23:34:39.849485Z"
    },
    "papermill": {
     "duration": 658.086132,
     "end_time": "2021-12-03T23:34:39.849750",
     "exception": false,
     "start_time": "2021-12-03T23:23:41.763618",
     "status": "completed"
    },
    "tags": []
   },
   "outputs": [
    {
     "name": "stdout",
     "output_type": "stream",
     "text": [
      "Parameters:\n",
      "cross_validation False\n",
      "embedding msa\n",
      "numHN 26\n",
      "numFilter 200\n",
      "dropOutRate 0.3\n",
      "esm_1b_separated True\n",
      "keep_energy False\n",
      "num_classes 1\n",
      "learning_rate 0.001\n",
      "bat_size 128\n",
      "patience 10\n",
      "criterion BCEWithLogitsLoss()\n",
      "\n",
      "\n",
      "\n"
     ]
    },
    {
     "name": "stdout",
     "output_type": "stream",
     "text": [
      "Epoch 0  \t Train loss: 0.00453 \t Validation loss: 0.00413\n"
     ]
    },
    {
     "name": "stdout",
     "output_type": "stream",
     "text": [
      "Epoch 5  \t Train loss: 0.00284 \t Validation loss: 0.00311\n"
     ]
    },
    {
     "name": "stdout",
     "output_type": "stream",
     "text": [
      "Epoch 10  \t Train loss: 0.00217 \t Validation loss: 0.00279\n"
     ]
    },
    {
     "name": "stdout",
     "output_type": "stream",
     "text": [
      "Epoch 15  \t Train loss: 0.00159 \t Validation loss: 0.00296\n"
     ]
    },
    {
     "name": "stdout",
     "output_type": "stream",
     "text": [
      "Epoch 20  \t Train loss: 0.00102 \t Validation loss: 0.00384\n"
     ]
    },
    {
     "name": "stdout",
     "output_type": "stream",
     "text": [
      "Early stopping\n",
      "\n"
     ]
    },
    {
     "name": "stdout",
     "output_type": "stream",
     "text": [
      "Done in 10.97 mins.\n",
      "test_acc, test_auc:\n",
      "0.8616404308202155 , 0.7758355151701831\n"
     ]
    }
   ],
   "source": [
    "###############################\n",
    "###    CNN+RNN (thesis)     ###\n",
    "###############################\n",
    "start = time.time()\n",
    "\n",
    "if cross_validation == False:\n",
    "    \n",
    "    print(\"Parameters:\")\n",
    "    print(\"cross_validation\", cross_validation)\n",
    "    print(\"embedding\", embedding)\n",
    "    print(\"numHN\", numHN)\n",
    "    print(\"numFilter\", numFilter)\n",
    "    print(\"dropOutRate\", dropOutRate)\n",
    "    print(\"esm_1b_separated\", esm_1b_separated) \n",
    "    print(\"keep_energy\", keep_energy)\n",
    "    print(\"num_classes\", num_classes)\n",
    "    print(\"learning_rate\", learning_rate)\n",
    "    print(\"bat_size\", bat_size)\n",
    "    print(\"patience\", patience)\n",
    "    print(\"criterion\", criterion)\n",
    "    print(\"\\n\\n\")\n",
    "    \n",
    "    #-------- Train --------#\n",
    "\n",
    "    # Initialize network\n",
    "    net = Net_project_simple_CNN_RNN(num_classes=num_classes, \n",
    "             n_features=n_features, \n",
    "             numHN_lstm=numHN, \n",
    "             numFilter=numFilter,\n",
    "             dropOutRate=dropOutRate).to(device)\n",
    "    \n",
    "    optimizer = optim.Adam(net.parameters(), lr=learning_rate,\n",
    "                           weight_decay=weight_decay,\n",
    "                           amsgrad=True,)\n",
    "    \n",
    "    train_acc, train_losses, train_auc, valid_acc, valid_losses, valid_auc, val_preds, val_targs, test_preds, test_targs, test_loss, test_acc, test_auc = func.train_project(net, optimizer, train_ldr, val_ldr, test_ldr, len_X_valid, epochs, criterion, patience)\n",
    "\n",
    "else:\n",
    "    pass\n",
    "\n",
    "print(\"Done in\", round((time.time()-start)/60,2), \"mins.\" )\n",
    "\n",
    "print(\"test_acc, test_auc:\")\n",
    "print(test_acc[0], \",\", test_auc[0])\n"
   ]
  },
  {
   "cell_type": "code",
   "execution_count": 15,
   "id": "12ec0ebb",
   "metadata": {
    "execution": {
     "iopub.execute_input": "2021-12-03T23:34:40.060092Z",
     "iopub.status.busy": "2021-12-03T23:34:40.054201Z",
     "iopub.status.idle": "2021-12-03T23:34:41.008672Z",
     "shell.execute_reply": "2021-12-03T23:34:41.009645Z"
    },
    "papermill": {
     "duration": 1.043464,
     "end_time": "2021-12-03T23:34:41.009941",
     "exception": false,
     "start_time": "2021-12-03T23:34:39.966477",
     "status": "completed"
    },
    "tags": []
   },
   "outputs": [
    {
     "data": {
      "image/png": "[encoded data removed]",
      "text/plain": [
       "<Figure size 432x288 with 1 Axes>"
      ]
     },
     "metadata": {
      "needs_background": "light"
     },
     "output_type": "display_data"
    },
    {
     "data": {
      "image/png": "[encoded data removed]",
      "text/plain": [
       "<Figure size 432x288 with 1 Axes>"
      ]
     },
     "metadata": {
      "needs_background": "light"
     },
     "output_type": "display_data"
    },
    {
     "data": {
      "image/png": "[encoded data removed]",
      "text/plain": [
       "<Figure size 432x288 with 1 Axes>"
      ]
     },
     "metadata": {
      "needs_background": "light"
     },
     "output_type": "display_data"
    },
    {
     "name": "stdout",
     "output_type": "stream",
     "text": [
      "AUC:  0.7758355151701831\n",
      "MCC:  0.6077379063882201\n"
     ]
    },
    {
     "data": {
      "image/png": "[encoded data removed]",
      "text/plain": [
       "<Figure size 432x288 with 2 Axes>"
      ]
     },
     "metadata": {
      "needs_background": "light"
     },
     "output_type": "display_data"
    },
    {
     "name": "stdout",
     "output_type": "stream",
     "text": [
      "AUC: 0.776\n",
      "167\n"
     ]
    },
    {
     "data": {
      "image/png": "[encoded data removed]",
      "text/plain": [
       "<Figure size 576x432 with 1 Axes>"
      ]
     },
     "metadata": {
      "needs_background": "light"
     },
     "output_type": "display_data"
    },
    {
     "name": "stdout",
     "output_type": "stream",
     "text": [
      "AUC:  0.7758355151701831\n",
      "MCC:  0.6077379063882201\n",
      "ACC:  0.8616404308202155\n"
     ]
    }
   ],
   "source": [
    "#-------- Performance --------#\n",
    "\n",
    "epoch = np.arange(1,len(train_losses)+1)\n",
    "plt.figure()\n",
    "plt.plot(epoch, train_losses, 'r', epoch, valid_losses, 'b')\n",
    "plt.legend(['Train Loss','Validation Loss'])\n",
    "plt.xlabel('Epoch'), plt.ylabel('Loss')\n",
    "\n",
    "epoch = np.arange(1,len(train_auc)+1)\n",
    "plt.figure()\n",
    "plt.plot(epoch, train_auc, 'r', epoch, valid_auc, 'b')\n",
    "plt.legend(['Train AUC','Validation AUC'])\n",
    "plt.xlabel('Epoch'), plt.ylabel('AUC')\n",
    "\n",
    "epoch = np.arange(1,len(train_acc)+1)\n",
    "plt.figure()\n",
    "plt.plot(epoch, train_acc, 'r', epoch, valid_acc, 'b')\n",
    "plt.legend(['Train Accuracy','Validation Accuracy'])\n",
    "plt.xlabel('Epoch'), plt.ylabel('Acc')\n",
    "plt.show()\n",
    "\n",
    "\n",
    "#-------- Save results --------#\n",
    "\n",
    "results_dir = 'results'\n",
    "\n",
    "try:\n",
    "    os.mkdir(results_dir)\n",
    "except:\n",
    "    pass\n",
    "\n",
    "plots_dir = 'results/plots'\n",
    "\n",
    "try:\n",
    "    os.mkdir(plots_dir)\n",
    "except:\n",
    "    pass\n",
    "\n",
    "results = pd.DataFrame(list(zip( (int(x) for x in test_targs), (int(x) for x in test_preds))),columns =['target', 'pred'])\n",
    "\n",
    "#print(results)\n",
    "results.to_csv('results/targets_vs_preds_emb_{}_HN_{}_nFilt_{}_do_{}_energy_{}_separated_{}.csv'.format(embedding,numHN,numFilter,int(dropOutRate*10), keep_energy, str(esm_1b_separated)), index=False)\n",
    "\n",
    "\n",
    "#-------- Performance Evaluation --------#\n",
    "# The results change every time we train, we should check why (maybe we missed something or did wrong with the seeds?)\n",
    "\n",
    "print(\"AUC: \", roc_auc_score(results['target'], results['pred']))\n",
    "print(\"MCC: \", matthews_corrcoef(results['target'], results['pred']))\n",
    "\n",
    "confusion_matrix = pd.crosstab(results['target'], results['pred'], rownames=['Actual'], colnames=['Predicted'])\n",
    "sn.heatmap(confusion_matrix, annot=True, cmap='Blues', fmt='g')\n",
    "plt.show()\n",
    "\n",
    "# Plot roc curve\n",
    "\n",
    "fpr, tpr, thres = roc_curve(results['target'], results['pred'])\n",
    "print('AUC: {:.3f}'.format(roc_auc_score(results['target'], results['pred'])))\n",
    "\n",
    "print( len([i for i, (a, b) in enumerate(zip(results['pred'], results['target'])) if a != b]))\n",
    "\n",
    "plt.figure(figsize=(8,6))\n",
    "\n",
    "# roc curve\n",
    "plt.plot(fpr, tpr, \"b\", label='ROC Curve')\n",
    "plt.plot([0,1],[0,1], \"k--\", label='Random Guess')\n",
    "plt.xlabel(\"false positive rate\")\n",
    "plt.ylabel(\"true positive rate\")\n",
    "plt.legend(loc=\"best\")\n",
    "plt.title(\"ROC curve\")\n",
    "\n",
    "plt.savefig('results/plots/targets_vs_preds_emb_{}_HN_{}_nFilt_{}_do_{}_energy_{}_separated_{}_ROC.png'.format(embedding,numHN,numFilter,int(dropOutRate*10), keep_energy, str(esm_1b_separated)))\n",
    "plt.show()\n",
    "\n",
    "AUC = roc_auc_score(results['target'], results['pred'])\n",
    "MCC = matthews_corrcoef(results['target'], results['pred'])\n",
    "ACC = accuracy_score(results['target'], results['pred'])\n",
    "print(\"AUC: \", AUC)\n",
    "print(\"MCC: \", MCC)\n",
    "print(\"ACC: \", ACC)"
   ]
  },
  {
   "cell_type": "code",
   "execution_count": 16,
   "id": "8218f21b",
   "metadata": {
    "execution": {
     "iopub.execute_input": "2021-12-03T23:34:41.166736Z",
     "iopub.status.busy": "2021-12-03T23:34:41.166014Z",
     "iopub.status.idle": "2021-12-03T23:34:45.473311Z",
     "shell.execute_reply": "2021-12-03T23:34:45.474265Z"
    },
    "papermill": {
     "duration": 4.392828,
     "end_time": "2021-12-03T23:34:45.474576",
     "exception": false,
     "start_time": "2021-12-03T23:34:41.081748",
     "status": "completed"
    },
    "tags": []
   },
   "outputs": [
    {
     "name": "stdout",
     "output_type": "stream",
     "text": [
      "hyperparameter grid\n",
      "Name: hyperparameter grid\n",
      "Experiment_id: 1\n",
      "Artifact Location: file:///home/shannara/DL_02456/workstation/mlruns/1\n"
     ]
    }
   ],
   "source": [
    "#storing values\n",
    "import mlflow\n",
    "import mlflow.sklearn\n",
    "\n",
    "print(name_experiment)\n",
    "exp = mlflow.set_experiment(name_experiment)\n",
    "experiment = mlflow.get_experiment(exp.experiment_id)\n",
    "\n",
    "print(\"Name: {}\".format(experiment.name))\n",
    "print(\"Experiment_id: {}\".format(experiment.experiment_id))\n",
    "print(\"Artifact Location: {}\".format(experiment.artifact_location))\n",
    "\n",
    "with mlflow.start_run():\n",
    "    mlflow.log_param('embedding', embedding) \n",
    "    \n",
    "    mlflow.log_param('esm_1b_separated', str(esm_1b_separated)) ### update\n",
    "    \n",
    "    mlflow.log_param('Hidden Neurons', numHN)\n",
    "    mlflow.log_param('filters CNN', numFilter)\n",
    "    mlflow.log_param('Dropout rate', dropOutRate)\n",
    "    mlflow.log_param('learning rate', learning_rate)\n",
    "    mlflow.log_param('Weight decay', weight_decay)\n",
    "    \n",
    "    mlflow.log_metric('test AUC', AUC)\n",
    "    mlflow.log_metric('test MCC', MCC)\n",
    "    mlflow.log_metric('test ACC', ACC)\n",
    "    \n",
    "    mlflow.log_metric('train ACC', train_acc[-1])\n",
    "    mlflow.log_metric('train AUC', train_auc[-1])\n",
    "    mlflow.log_metric('valid ACC', valid_acc[-1])\n",
    "    mlflow.log_metric('valid AUC', valid_auc[-1])\n"
   ]
  },
  {
   "cell_type": "code",
   "execution_count": 17,
   "id": "fab2b2e8",
   "metadata": {
    "execution": {
     "iopub.execute_input": "2021-12-03T23:34:45.662807Z",
     "iopub.status.busy": "2021-12-03T23:34:45.662191Z",
     "iopub.status.idle": "2021-12-03T23:34:45.671110Z",
     "shell.execute_reply": "2021-12-03T23:34:45.671763Z"
    },
    "papermill": {
     "duration": 0.102758,
     "end_time": "2021-12-03T23:34:45.671971",
     "exception": false,
     "start_time": "2021-12-03T23:34:45.569213",
     "status": "completed"
    },
    "tags": []
   },
   "outputs": [
    {
     "name": "stdout",
     "output_type": "stream",
     "text": [
      "\n",
      "\n",
      "embedding msa\n",
      "esm_1b_separated True\n",
      "Hidden Neurons 26\n",
      "filters CNN 200\n",
      "Dropout rate 0.3\n",
      "learning rate 0.001\n",
      "Weight decay 0.0005\n",
      "test AUC 0.7758355151701831\n",
      "test MCC 0.6077379063882201\n",
      "test ACC 0.8616404308202155\n",
      "train ACC 0.9674173454719693\n",
      "train AUC 0.9910545100663573\n",
      "valid ACC 0.8857702349869452\n",
      "valid AUC 0.8670066149018218\n"
     ]
    }
   ],
   "source": [
    "from csv import writer\n",
    "\n",
    "\n",
    "print(\"\\n\")\n",
    "print('embedding', embedding) \n",
    "\n",
    "print('esm_1b_separated', str(esm_1b_separated)) ### update\n",
    "\n",
    "print('Hidden Neurons', numHN)\n",
    "print('filters CNN', numFilter)\n",
    "print('Dropout rate', dropOutRate)\n",
    "print('learning rate', learning_rate)\n",
    "print('Weight decay', weight_decay)\n",
    "\n",
    "print('test AUC', AUC)\n",
    "print('test MCC', MCC)\n",
    "print('test ACC', ACC)\n",
    "\n",
    "print('train ACC', train_acc[-1])\n",
    "print('train AUC', train_auc[-1])\n",
    "print('valid ACC', valid_acc[-1])\n",
    "print('valid AUC', valid_auc[-1])\n",
    "\n",
    "\n",
    "#List = ['embedding', 'numHN', 'numFilter', 'dropOutRate', 'learning_rate', 'weight_decay', 'AUC', 'MCC', 'ACC', 'train_acc', 'train_auc', 'valid_acc', 'valid_auc' ]\n",
    "List = [embedding, numHN, numFilter, dropOutRate, learning_rate, weight_decay, AUC, MCC, ACC, train_acc[-1], train_auc[-1], valid_acc[-1], valid_auc[-1] ]\n",
    "\n",
    "with open('separated_results.csv', 'a') as f_object:\n",
    "    writer_object = writer(f_object)\n",
    "  \n",
    "    writer_object.writerow(List)\n",
    "  \n",
    "    f_object.close()"
   ]
  }
 ],
 "metadata": {
  "celltoolbar": "Tags",
  "kernelspec": {
   "display_name": "Python 3",
   "language": "python",
   "name": "python3"
  },
  "language_info": {
   "codemirror_mode": {
    "name": "ipython",
    "version": 3
   },
   "file_extension": ".py",
   "mimetype": "text/x-python",
   "name": "python",
   "nbconvert_exporter": "python",
   "pygments_lexer": "ipython3",
   "version": "3.8.5"
  },
  "papermill": {
   "default_parameters": {},
   "duration": 709.561007,
   "end_time": "2021-12-03T23:34:48.460588",
   "environment_variables": {},
   "exception": null,
   "input_path": "main3_workstation.ipynb",
   "output_path": "notebooks/20211203_14-11-17_main3_encoding_msa_numHN_26_filters_200_dr_3_lr_0001_wc_00005_separated_True.ipynb",
   "parameters": {
    "dropOutRate": 0.3,
    "embedding": "msa",
    "esm_1b_separated": true,
    "learning_rate": 0.001,
    "name_experiment": "hyperparameter grid",
    "numFilter": 200,
    "numHN": 26,
    "weight_decay": 0.0005
   },
   "start_time": "2021-12-03T23:22:58.899581",
   "version": "2.3.3"
  }
 },
 "nbformat": 4,
 "nbformat_minor": 5
}