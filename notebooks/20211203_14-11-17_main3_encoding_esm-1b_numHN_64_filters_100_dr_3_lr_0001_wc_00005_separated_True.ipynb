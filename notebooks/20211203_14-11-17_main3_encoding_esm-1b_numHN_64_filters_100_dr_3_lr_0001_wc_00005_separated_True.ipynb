{
 "cells": [
  {
   "cell_type": "code",
   "execution_count": 1,
   "id": "3b260f2f",
   "metadata": {
    "execution": {
     "iopub.execute_input": "2021-12-03T18:16:13.292159Z",
     "iopub.status.busy": "2021-12-03T18:16:13.290028Z",
     "iopub.status.idle": "2021-12-03T18:16:15.624310Z",
     "shell.execute_reply": "2021-12-03T18:16:15.625122Z"
    },
    "papermill": {
     "duration": 2.388897,
     "end_time": "2021-12-03T18:16:15.625471",
     "exception": false,
     "start_time": "2021-12-03T18:16:13.236574",
     "status": "completed"
    },
    "tags": []
   },
   "outputs": [],
   "source": [
    "#-------- Import Libraries --------#\n",
    "\n",
    "import torch\n",
    "import time\n",
    "import os\n",
    "import gc\n",
    "import sys\n",
    "import random\n",
    "import pickle\n",
    "import mlflow\n",
    "import numpy as np\n",
    "import pandas as pd\n",
    "import torch.nn as nn\n",
    "import seaborn as sn\n",
    "import matplotlib.pyplot as plt\n",
    "from datetime import date\n",
    "import collections\n",
    "from sklearn.metrics import matthews_corrcoef\n",
    "import torch.optim as optim  # For all Optimization algorithms, SGD, Adam, etc.\n",
    "import torch.nn.functional as F  # All functions that don't have any parameters\n",
    "from sklearn.metrics import accuracy_score, roc_auc_score, roc_curve, auc"
   ]
  },
  {
   "cell_type": "code",
   "execution_count": 2,
   "id": "3423c37a-4b59-4a1f-93f8-4ef70f490869",
   "metadata": {
    "execution": {
     "iopub.execute_input": "2021-12-03T18:16:15.784711Z",
     "iopub.status.busy": "2021-12-03T18:16:15.783690Z",
     "iopub.status.idle": "2021-12-03T18:16:15.791065Z",
     "shell.execute_reply": "2021-12-03T18:16:15.791863Z"
    },
    "papermill": {
     "duration": 0.091232,
     "end_time": "2021-12-03T18:16:15.792118",
     "exception": false,
     "start_time": "2021-12-03T18:16:15.700886",
     "status": "completed"
    },
    "tags": []
   },
   "outputs": [],
   "source": [
    "#-------- Import Modules from project--------#\n",
    "import encoding as enc\n",
    "from model import Net, Net_thesis, Net_project, Net_project_simple_CNN_RNN\n",
    "import functions as func"
   ]
  },
  {
   "cell_type": "code",
   "execution_count": 3,
   "id": "c4211d09",
   "metadata": {
    "execution": {
     "iopub.execute_input": "2021-12-03T18:16:15.885604Z",
     "iopub.status.busy": "2021-12-03T18:16:15.884918Z",
     "iopub.status.idle": "2021-12-03T18:16:15.888133Z",
     "shell.execute_reply": "2021-12-03T18:16:15.888606Z"
    },
    "papermill": {
     "duration": 0.046169,
     "end_time": "2021-12-03T18:16:15.888785",
     "exception": false,
     "start_time": "2021-12-03T18:16:15.842616",
     "status": "completed"
    },
    "tags": []
   },
   "outputs": [
    {
     "name": "stdout",
     "output_type": "stream",
     "text": [
      "No GPUs available. Using CPU instead.\n"
     ]
    }
   ],
   "source": [
    "#-------- Set Device --------#\n",
    "\n",
    "if torch.cuda.is_available():\n",
    "    device = torch.device('cuda')\n",
    "    print('There are %d GPU(s) available.' % torch.cuda.device_count())\n",
    "else:\n",
    "    print('No GPUs available. Using CPU instead.')\n",
    "    device = torch.device('cpu')"
   ]
  },
  {
   "cell_type": "code",
   "execution_count": 4,
   "id": "cd5adc66",
   "metadata": {
    "execution": {
     "iopub.execute_input": "2021-12-03T18:16:15.974798Z",
     "iopub.status.busy": "2021-12-03T18:16:15.973989Z",
     "iopub.status.idle": "2021-12-03T18:16:15.977349Z",
     "shell.execute_reply": "2021-12-03T18:16:15.977815Z"
    },
    "papermill": {
     "duration": 0.048199,
     "end_time": "2021-12-03T18:16:15.977983",
     "exception": false,
     "start_time": "2021-12-03T18:16:15.929784",
     "status": "completed"
    },
    "tags": []
   },
   "outputs": [],
   "source": [
    "#-------- Seeds --------#\n",
    "\n",
    "seed_val = 42\n",
    "\n",
    "random.seed(seed_val)\n",
    "np.random.seed(seed_val)\n",
    "torch.manual_seed(seed_val)\n",
    "torch.cuda.manual_seed_all(seed_val)\n",
    "\n",
    "torch.use_deterministic_algorithms(True)"
   ]
  },
  {
   "cell_type": "code",
   "execution_count": 5,
   "id": "4f33ea7b",
   "metadata": {
    "execution": {
     "iopub.execute_input": "2021-12-03T18:16:16.061231Z",
     "iopub.status.busy": "2021-12-03T18:16:16.060476Z",
     "iopub.status.idle": "2021-12-03T18:16:16.062832Z",
     "shell.execute_reply": "2021-12-03T18:16:16.063288Z"
    },
    "papermill": {
     "duration": 0.045733,
     "end_time": "2021-12-03T18:16:16.063449",
     "exception": false,
     "start_time": "2021-12-03T18:16:16.017716",
     "status": "completed"
    },
    "tags": []
   },
   "outputs": [],
   "source": [
    "#-------- Import Modules from project--------#\n",
    "\n",
    "import encoding as enc\n",
    "from model import Net_project\n",
    "import functions as func\n"
   ]
  },
  {
   "cell_type": "code",
   "execution_count": 6,
   "id": "4b37f634",
   "metadata": {
    "execution": {
     "iopub.execute_input": "2021-12-03T18:16:16.150897Z",
     "iopub.status.busy": "2021-12-03T18:16:16.149934Z",
     "iopub.status.idle": "2021-12-03T18:16:16.170447Z",
     "shell.execute_reply": "2021-12-03T18:16:16.169792Z"
    },
    "papermill": {
     "duration": 0.067875,
     "end_time": "2021-12-03T18:16:16.170612",
     "exception": false,
     "start_time": "2021-12-03T18:16:16.102737",
     "status": "completed"
    },
    "tags": []
   },
   "outputs": [
    {
     "name": "stdout",
     "output_type": "stream",
     "text": [
      "1\n",
      "P1_input.npz\n",
      "2\n",
      "P2_input.npz\n",
      "3\n",
      "P3_input.npz\n",
      "4\n",
      "P4_input.npz\n",
      "5\n",
      "P5_input.npz\n",
      "\n",
      "Number of files: 5\n",
      "File: 0\n",
      "{1.0: 380, 0.0: 1146} \n",
      "\n",
      "File: 1\n",
      "{1.0: 292, 0.0: 876} \n",
      "\n",
      "File: 2\n",
      "{1.0: 370, 0.0: 1110} \n",
      "\n",
      "File: 3\n",
      "{1.0: 383, 0.0: 1149} \n",
      "\n",
      "File: 4\n",
      "{1.0: 301, 0.0: 906} \n",
      "\n",
      "Size of file 1 1526\n",
      "Size of file 2 1168\n",
      "Size of file 3 1480\n",
      "Size of file 4 1532\n",
      "Size of file 5 1207\n"
     ]
    }
   ],
   "source": [
    "#-------- Import Dataset --------#\n",
    "\n",
    "#data_list = []\n",
    "target_list = []\n",
    "\n",
    "import glob\n",
    "for i in range(5):\n",
    "    i = i+1\n",
    "    print(i)\n",
    "    for fp in glob.glob(\"*{}*input.npz\".format(i)):\n",
    "        print(fp)\n",
    "        #data = np.load(fp)[\"arr_0\"]\n",
    "        targets = np.load(fp.replace(\"input\", \"labels\"))[\"arr_0\"]\n",
    "        #data_list.append(data)\n",
    "        target_list.append(targets)\n",
    "\n",
    "data_partitions = len(target_list)\n",
    "\n",
    "print(\"\\nNumber of files:\", data_partitions)\n",
    "\n",
    "for i in range(len(target_list)):\n",
    "    print(\"File:\", i)\n",
    "    frequency = collections.Counter(target_list[i])\n",
    "    print(dict(frequency), \"\\n\")\n",
    "    \n",
    "data_partitions = len(target_list)\n",
    "for i in range(data_partitions):\n",
    "    print(\"Size of file\", i+1, len(target_list[i]))"
   ]
  },
  {
   "cell_type": "code",
   "execution_count": 7,
   "id": "a9897fc5",
   "metadata": {
    "execution": {
     "iopub.execute_input": "2021-12-03T18:16:16.262811Z",
     "iopub.status.busy": "2021-12-03T18:16:16.262115Z",
     "iopub.status.idle": "2021-12-03T18:16:16.264600Z",
     "shell.execute_reply": "2021-12-03T18:16:16.265154Z"
    },
    "papermill": {
     "duration": 0.052785,
     "end_time": "2021-12-03T18:16:16.265355",
     "exception": false,
     "start_time": "2021-12-03T18:16:16.212570",
     "status": "completed"
    },
    "tags": [
     "parameters"
    ]
   },
   "outputs": [],
   "source": [
    "#-------- Select the network you would like to use -------#\n",
    "\n",
    "CNN = False # ONLY CNN\n",
    "CNN_RNN = True # CNN + RNN\n",
    "\n",
    "# Type of embedding\n",
    "embedding = \"msa\"   #\"asm\"\n",
    "keep_energy = True\n",
    "\n",
    "esm_1b_separated = True   ### update\n",
    "if esm_1b_separated:       ### update\n",
    "    keep_energy = False\n",
    "\n",
    "# Hyperparameters to fine-tune\n",
    "numHN = 32\n",
    "numFilter = 100\n",
    "dropOutRate = 0.1\n",
    "learning_rate = 0.001\n",
    "weight_decay = 0.0001\n",
    "\n",
    "# For ml-flow\n",
    "name_experiment = \"hyperparameter_grid\"\n",
    "\n",
    "\n",
    "##--- parameters fixed\n",
    "cross_validation = False\n",
    "bat_size = 128\n",
    "num_classes=1\n",
    "epochs = 100\n",
    "patience=10\n",
    "criterion = nn.BCEWithLogitsLoss()\n",
    "    "
   ]
  },
  {
   "cell_type": "code",
   "execution_count": 8,
   "id": "20f24657",
   "metadata": {
    "execution": {
     "iopub.execute_input": "2021-12-03T18:16:16.355036Z",
     "iopub.status.busy": "2021-12-03T18:16:16.353987Z",
     "iopub.status.idle": "2021-12-03T18:16:16.356525Z",
     "shell.execute_reply": "2021-12-03T18:16:16.357330Z"
    },
    "papermill": {
     "duration": 0.050523,
     "end_time": "2021-12-03T18:16:16.357582",
     "exception": false,
     "start_time": "2021-12-03T18:16:16.307059",
     "status": "completed"
    },
    "tags": [
     "injected-parameters"
    ]
   },
   "outputs": [],
   "source": [
    "# Parameters\n",
    "embedding = \"esm-1b\"\n",
    "numHN = 64\n",
    "numFilter = 100\n",
    "dropOutRate = 0.3\n",
    "esm_1b_separated = True\n",
    "learning_rate = 0.001\n",
    "weight_decay = 0.0005\n",
    "name_experiment = \"hyperparameter grid\"\n"
   ]
  },
  {
   "cell_type": "code",
   "execution_count": 9,
   "id": "b820a879",
   "metadata": {
    "execution": {
     "iopub.execute_input": "2021-12-03T18:16:16.494333Z",
     "iopub.status.busy": "2021-12-03T18:16:16.493749Z",
     "iopub.status.idle": "2021-12-03T18:16:16.496331Z",
     "shell.execute_reply": "2021-12-03T18:16:16.496828Z"
    },
    "papermill": {
     "duration": 0.055942,
     "end_time": "2021-12-03T18:16:16.497003",
     "exception": false,
     "start_time": "2021-12-03T18:16:16.441061",
     "status": "completed"
    },
    "tags": []
   },
   "outputs": [],
   "source": [
    "data_list_enc = list() ### update"
   ]
  },
  {
   "cell_type": "code",
   "execution_count": 10,
   "id": "f46dc5c6",
   "metadata": {
    "execution": {
     "iopub.execute_input": "2021-12-03T18:16:16.591466Z",
     "iopub.status.busy": "2021-12-03T18:16:16.590614Z",
     "iopub.status.idle": "2021-12-03T18:16:34.635505Z",
     "shell.execute_reply": "2021-12-03T18:16:34.636669Z"
    },
    "papermill": {
     "duration": 18.098413,
     "end_time": "2021-12-03T18:16:34.636919",
     "exception": false,
     "start_time": "2021-12-03T18:16:16.538506",
     "status": "completed"
    },
    "tags": []
   },
   "outputs": [
    {
     "name": "stdout",
     "output_type": "stream",
     "text": [
      "ESM File 1 is loaded.\n"
     ]
    },
    {
     "name": "stdout",
     "output_type": "stream",
     "text": [
      "ESM File 2 is loaded.\n"
     ]
    },
    {
     "name": "stdout",
     "output_type": "stream",
     "text": [
      "ESM File 3 is loaded.\n"
     ]
    },
    {
     "name": "stdout",
     "output_type": "stream",
     "text": [
      "ESM File 4 is loaded.\n"
     ]
    },
    {
     "name": "stdout",
     "output_type": "stream",
     "text": [
      "ESM File 5 is loaded.\n",
      "Done\n"
     ]
    }
   ],
   "source": [
    "#embedding of data\n",
    "\n",
    "try:\n",
    "    os.mkdir(embedding_dir)\n",
    "except:\n",
    "    pass\n",
    "\n",
    "#try to fecth if already exist\n",
    "if embedding == \"Baseline\":   \n",
    "    data_list_enc = data_list\n",
    "    \n",
    "elif embedding == \"esm-1b\":\n",
    "    if esm_1b_separated == False:\n",
    "        pass\n",
    "            \n",
    "    if esm_1b_separated == True:\n",
    "        for file_index in range(5):\n",
    "            \n",
    "            infile = open('esm-energies-file-updated-{}.pkl'.format(file_index+1), 'rb')\n",
    "            encoding = pickle.load(infile)\n",
    "            data_list_enc.append(encoding)\n",
    "            del encoding\n",
    "            gc.collect()\n",
    "            infile.close()\n",
    "            print(\"ESM File\", file_index+1, \"is loaded.\")\n",
    "            \n",
    "else: #msa\n",
    "    if esm_1b_separated == False:\n",
    "        pass\n",
    "            \n",
    "    if esm_1b_separated == True:\n",
    "        for file_index in range(5):\n",
    "            \n",
    "            infile = open('esm-energies-file-MSA-{}.pkl'.format(file_index+1), 'rb')\n",
    "            encoding = pickle.load(infile)\n",
    "            data_list_enc.append(encoding) \n",
    "            infile.close()\n",
    "            print(\"MSA File\", file_index+1, \"is loaded.\")\n",
    "    \n",
    "print(\"Done\")"
   ]
  },
  {
   "cell_type": "code",
   "execution_count": 11,
   "id": "d0702979",
   "metadata": {
    "execution": {
     "iopub.execute_input": "2021-12-03T18:16:34.847112Z",
     "iopub.status.busy": "2021-12-03T18:16:34.846154Z",
     "iopub.status.idle": "2021-12-03T18:16:34.856156Z",
     "shell.execute_reply": "2021-12-03T18:16:34.854956Z"
    },
    "papermill": {
     "duration": 0.121239,
     "end_time": "2021-12-03T18:16:34.856418",
     "exception": false,
     "start_time": "2021-12-03T18:16:34.735179",
     "status": "completed"
    },
    "tags": []
   },
   "outputs": [
    {
     "name": "stdout",
     "output_type": "stream",
     "text": [
      "Total number of files:"
     ]
    },
    {
     "name": "stdout",
     "output_type": "stream",
     "text": [
      " 5 \n",
      "\n",
      "File 0\n",
      "number of complexes: 1526\n",
      "number of rows: 420\n",
      "number of columns: 1313\n",
      "\n",
      "\n",
      "File 1\n",
      "number of complexes: 1168\n",
      "number of rows: 420\n",
      "number of columns: 1313\n",
      "\n",
      "\n",
      "File 2\n",
      "number of complexes: 1480\n",
      "number of rows: 420\n",
      "number of columns: 1313\n",
      "\n",
      "\n",
      "File 3\n",
      "number of complexes: 1532\n",
      "number of rows: 420\n",
      "number of columns: 1313\n",
      "\n",
      "\n",
      "File 4\n",
      "number of complexes: 1207\n",
      "number of rows: 420\n",
      "number of columns: 1313\n",
      "\n",
      "\n"
     ]
    }
   ],
   "source": [
    "#-------- Print Dimentions -------# ### update\n",
    "\n",
    "if embedding == \"baseline\":\n",
    "    print(\"baseline\")\n",
    "    print(len(data_list_enc), \"\\n\")\n",
    "\n",
    "    for i in range(len(data_list)):\n",
    "        print(\"number of complexes:\", len(data_list[i]))\n",
    "        print(\"number of rows:\", len(data_list[i][0]))\n",
    "        print(\"number of columns:\", len(data_list[i][0][0]))\n",
    "        print(\"\\n\")\n",
    "\n",
    "else:\n",
    "    print(\"Total number of files:\", len(data_list_enc), \"\\n\")\n",
    "\n",
    "    for i in range(len(data_list_enc)):\n",
    "        print(\"File\", i)\n",
    "        print(\"number of complexes:\", len(data_list_enc[i]))\n",
    "        print(\"number of rows:\", len(data_list_enc[i][0]))\n",
    "        print(\"number of columns:\", len(data_list_enc[i][0][0]))\n",
    "        print(\"\\n\")"
   ]
  },
  {
   "cell_type": "code",
   "execution_count": 12,
   "id": "d642772f",
   "metadata": {
    "execution": {
     "iopub.execute_input": "2021-12-03T18:16:35.063080Z",
     "iopub.status.busy": "2021-12-03T18:16:35.061279Z",
     "iopub.status.idle": "2021-12-03T18:16:35.065688Z",
     "shell.execute_reply": "2021-12-03T18:16:35.062259Z"
    },
    "papermill": {
     "duration": 0.110999,
     "end_time": "2021-12-03T18:16:35.065903",
     "exception": false,
     "start_time": "2021-12-03T18:16:34.954904",
     "status": "completed"
    },
    "tags": []
   },
   "outputs": [
    {
     "name": "stdout",
     "output_type": "stream",
     "text": [
      "5\n",
      "1526\n",
      "420\n",
      "1313\n"
     ]
    }
   ],
   "source": [
    "print(len(data_list_enc))\n",
    "print(len(data_list_enc[0]))\n",
    "print(len(data_list_enc[0][0]))\n",
    "print(len(data_list_enc[0][0][0]))"
   ]
  },
  {
   "cell_type": "code",
   "execution_count": 13,
   "id": "5b04c913",
   "metadata": {
    "execution": {
     "iopub.execute_input": "2021-12-03T18:16:35.290755Z",
     "iopub.status.busy": "2021-12-03T18:16:35.289840Z",
     "iopub.status.idle": "2021-12-03T18:17:23.233590Z",
     "shell.execute_reply": "2021-12-03T18:17:23.234209Z"
    },
    "papermill": {
     "duration": 48.069736,
     "end_time": "2021-12-03T18:17:23.234427",
     "exception": false,
     "start_time": "2021-12-03T18:16:35.164691",
     "status": "completed"
    },
    "tags": []
   },
   "outputs": [
    {
     "name": "stdout",
     "output_type": "stream",
     "text": [
      "Training set shape: 4174 420 1313\n"
     ]
    },
    {
     "name": "stdout",
     "output_type": "stream",
     "text": [
      "Validation set shape: 1532 420 1313\n"
     ]
    },
    {
     "name": "stdout",
     "output_type": "stream",
     "text": [
      "Test set shape: 1207 420 1313\n"
     ]
    },
    {
     "data": {
      "text/plain": [
       "0"
      ]
     },
     "execution_count": 13,
     "metadata": {},
     "output_type": "execute_result"
    }
   ],
   "source": [
    "#Train\n",
    "X_train = np.concatenate(data_list_enc[0:3])\n",
    "y_train = np.concatenate(target_list[0:3])\n",
    "nsamples, nx, ny = X_train.shape\n",
    "print(\"Training set shape:\", nsamples, nx, ny)\n",
    "\n",
    "#Features and Residues\n",
    "features = list(range(ny))\n",
    "residues = list(range(nx)) \n",
    "n_features = len(features)\n",
    "input_size = len(residues)\n",
    "\n",
    "train_ds = []\n",
    "for i in range(len(X_train)):\n",
    "    train_ds.append([np.transpose(X_train[i][:,features]), y_train[i]])\n",
    "del X_train, y_train\n",
    "gc.collect()\n",
    "train_ldr = torch.utils.data.DataLoader(train_ds,batch_size=bat_size, shuffle=True)\n",
    "del train_ds\n",
    "gc.collect()\n",
    "\n",
    "\n",
    "\n",
    "#Validation\n",
    "X_valid = np.concatenate(data_list_enc[3:4])\n",
    "y_valid = np.concatenate(target_list[3:4])\n",
    "nsamples, nx, ny = X_valid.shape\n",
    "print(\"Validation set shape:\", nsamples, nx, ny)\n",
    "len_X_valid = len(X_valid)\n",
    "val_ds = []\n",
    "for i in range(len(X_valid)):\n",
    "    val_ds.append([np.transpose(X_valid[i][:,features]), y_valid[i]])\n",
    "del X_valid, y_valid\n",
    "gc.collect()\n",
    "val_ldr = torch.utils.data.DataLoader(val_ds,batch_size=bat_size, shuffle=True)\n",
    "\n",
    "del val_ds\n",
    "gc.collect()\n",
    "\n",
    "\n",
    "\n",
    "#Test\n",
    "X_test = np.concatenate(data_list_enc[4:])\n",
    "y_test = np.concatenate(target_list[4:])\n",
    "nsamples, nx, ny = X_test.shape\n",
    "print(\"Test set shape:\", nsamples,nx,ny)\n",
    "\n",
    "test_ds = []\n",
    "for i in range(len(X_test)):\n",
    "    test_ds.append([np.transpose(X_test[i][:,features]), y_test[i]])\n",
    "test_ldr = torch.utils.data.DataLoader(test_ds,batch_size=len(test_ds), shuffle=True) ## Test at once\n",
    "\n",
    "del X_test, y_test, test_ds\n",
    "gc.collect()\n"
   ]
  },
  {
   "cell_type": "code",
   "execution_count": 14,
   "id": "1153ff8d",
   "metadata": {
    "execution": {
     "iopub.execute_input": "2021-12-03T18:17:23.386388Z",
     "iopub.status.busy": "2021-12-03T18:17:23.380319Z",
     "iopub.status.idle": "2021-12-03T18:49:17.558939Z",
     "shell.execute_reply": "2021-12-03T18:49:17.559739Z"
    },
    "papermill": {
     "duration": 1914.239857,
     "end_time": "2021-12-03T18:49:17.559975",
     "exception": false,
     "start_time": "2021-12-03T18:17:23.320118",
     "status": "completed"
    },
    "tags": []
   },
   "outputs": [
    {
     "name": "stdout",
     "output_type": "stream",
     "text": [
      "Parameters:\n",
      "cross_validation False\n",
      "embedding esm-1b\n",
      "numHN 64\n",
      "numFilter 100\n",
      "dropOutRate 0.3\n",
      "esm_1b_separated True\n",
      "keep_energy False\n",
      "num_classes 1\n",
      "learning_rate 0.001\n",
      "bat_size 128\n",
      "patience 10\n",
      "criterion BCEWithLogitsLoss()\n",
      "\n",
      "\n",
      "\n"
     ]
    },
    {
     "name": "stdout",
     "output_type": "stream",
     "text": [
      "Epoch 0  \t Train loss: 0.00444 \t Validation loss: 0.00421\n"
     ]
    },
    {
     "name": "stdout",
     "output_type": "stream",
     "text": [
      "Epoch 5  \t Train loss: 0.00385 \t Validation loss: 0.00385\n"
     ]
    },
    {
     "name": "stdout",
     "output_type": "stream",
     "text": [
      "Epoch 10  \t Train loss: 0.00247 \t Validation loss: 0.00291\n"
     ]
    },
    {
     "name": "stdout",
     "output_type": "stream",
     "text": [
      "Epoch 15  \t Train loss: 0.00207 \t Validation loss: 0.00259\n"
     ]
    },
    {
     "name": "stdout",
     "output_type": "stream",
     "text": [
      "Epoch 20  \t Train loss: 0.00188 \t Validation loss: 0.00227\n"
     ]
    },
    {
     "name": "stdout",
     "output_type": "stream",
     "text": [
      "Epoch 25  \t Train loss: 0.00162 \t Validation loss: 0.00234\n"
     ]
    },
    {
     "name": "stdout",
     "output_type": "stream",
     "text": [
      "Early stopping\n",
      "\n"
     ]
    },
    {
     "name": "stdout",
     "output_type": "stream",
     "text": [
      "Done in 31.9 mins.\n",
      "test_acc, test_auc:\n",
      "0.8591549295774648 , 0.8041297221183252\n"
     ]
    }
   ],
   "source": [
    "###############################\n",
    "###    CNN+RNN (thesis)     ###\n",
    "###############################\n",
    "start = time.time()\n",
    "\n",
    "if cross_validation == False:\n",
    "    \n",
    "    print(\"Parameters:\")\n",
    "    print(\"cross_validation\", cross_validation)\n",
    "    print(\"embedding\", embedding)\n",
    "    print(\"numHN\", numHN)\n",
    "    print(\"numFilter\", numFilter)\n",
    "    print(\"dropOutRate\", dropOutRate)\n",
    "    print(\"esm_1b_separated\", esm_1b_separated) \n",
    "    print(\"keep_energy\", keep_energy)\n",
    "    print(\"num_classes\", num_classes)\n",
    "    print(\"learning_rate\", learning_rate)\n",
    "    print(\"bat_size\", bat_size)\n",
    "    print(\"patience\", patience)\n",
    "    print(\"criterion\", criterion)\n",
    "    print(\"\\n\\n\")\n",
    "    \n",
    "    #-------- Train --------#\n",
    "\n",
    "    # Initialize network\n",
    "    net = Net_project_simple_CNN_RNN(num_classes=num_classes, \n",
    "             n_features=n_features, \n",
    "             numHN_lstm=numHN, \n",
    "             numFilter=numFilter,\n",
    "             dropOutRate=dropOutRate).to(device)\n",
    "    \n",
    "    optimizer = optim.Adam(net.parameters(), lr=learning_rate,\n",
    "                           weight_decay=weight_decay,\n",
    "                           amsgrad=True,)\n",
    "    \n",
    "    train_acc, train_losses, train_auc, valid_acc, valid_losses, valid_auc, val_preds, val_targs, test_preds, test_targs, test_loss, test_acc, test_auc = func.train_project(net, optimizer, train_ldr, val_ldr, test_ldr, len_X_valid, epochs, criterion, patience)\n",
    "\n",
    "else:\n",
    "    pass\n",
    "\n",
    "print(\"Done in\", round((time.time()-start)/60,2), \"mins.\" )\n",
    "\n",
    "print(\"test_acc, test_auc:\")\n",
    "print(test_acc[0], \",\", test_auc[0])\n"
   ]
  },
  {
   "cell_type": "code",
   "execution_count": 15,
   "id": "12ec0ebb",
   "metadata": {
    "execution": {
     "iopub.execute_input": "2021-12-03T18:49:17.788170Z",
     "iopub.status.busy": "2021-12-03T18:49:17.786998Z",
     "iopub.status.idle": "2021-12-03T18:49:18.773269Z",
     "shell.execute_reply": "2021-12-03T18:49:18.772518Z"
    },
    "papermill": {
     "duration": 1.091134,
     "end_time": "2021-12-03T18:49:18.773465",
     "exception": false,
     "start_time": "2021-12-03T18:49:17.682331",
     "status": "completed"
    },
    "tags": []
   },
   "outputs": [
    {
     "data": {
      "image/png": "[encoded data removed]",
      "text/plain": [
       "<Figure size 432x288 with 1 Axes>"
      ]
     },
     "metadata": {
      "needs_background": "light"
     },
     "output_type": "display_data"
    },
    {
     "data": {
      "image/png": "[encoded data removed]",
      "text/plain": [
       "<Figure size 432x288 with 1 Axes>"
      ]
     },
     "metadata": {
      "needs_background": "light"
     },
     "output_type": "display_data"
    },
    {
     "data": {
      "image/png": "[encoded data removed]",
      "text/plain": [
       "<Figure size 432x288 with 1 Axes>"
      ]
     },
     "metadata": {
      "needs_background": "light"
     },
     "output_type": "display_data"
    },
    {
     "name": "stdout",
     "output_type": "stream",
     "text": [
      "AUC:  0.8041297221183252\n",
      "MCC:  0.6181606350434411\n"
     ]
    },
    {
     "data": {
      "image/png": "[encoded data removed]",
      "text/plain": [
       "<Figure size 432x288 with 2 Axes>"
      ]
     },
     "metadata": {
      "needs_background": "light"
     },
     "output_type": "display_data"
    },
    {
     "name": "stdout",
     "output_type": "stream",
     "text": [
      "AUC: 0.804\n",
      "170\n"
     ]
    },
    {
     "data": {
      "image/png": "[encoded data removed]",
      "text/plain": [
       "<Figure size 576x432 with 1 Axes>"
      ]
     },
     "metadata": {
      "needs_background": "light"
     },
     "output_type": "display_data"
    },
    {
     "name": "stdout",
     "output_type": "stream",
     "text": [
      "AUC:  0.8041297221183252\n",
      "MCC:  0.6181606350434411\n",
      "ACC:  0.8591549295774648\n"
     ]
    }
   ],
   "source": [
    "#-------- Performance --------#\n",
    "\n",
    "epoch = np.arange(1,len(train_losses)+1)\n",
    "plt.figure()\n",
    "plt.plot(epoch, train_losses, 'r', epoch, valid_losses, 'b')\n",
    "plt.legend(['Train Loss','Validation Loss'])\n",
    "plt.xlabel('Epoch'), plt.ylabel('Loss')\n",
    "\n",
    "epoch = np.arange(1,len(train_auc)+1)\n",
    "plt.figure()\n",
    "plt.plot(epoch, train_auc, 'r', epoch, valid_auc, 'b')\n",
    "plt.legend(['Train AUC','Validation AUC'])\n",
    "plt.xlabel('Epoch'), plt.ylabel('AUC')\n",
    "\n",
    "epoch = np.arange(1,len(train_acc)+1)\n",
    "plt.figure()\n",
    "plt.plot(epoch, train_acc, 'r', epoch, valid_acc, 'b')\n",
    "plt.legend(['Train Accuracy','Validation Accuracy'])\n",
    "plt.xlabel('Epoch'), plt.ylabel('Acc')\n",
    "plt.show()\n",
    "\n",
    "\n",
    "#-------- Save results --------#\n",
    "\n",
    "results_dir = 'results'\n",
    "\n",
    "try:\n",
    "    os.mkdir(results_dir)\n",
    "except:\n",
    "    pass\n",
    "\n",
    "plots_dir = 'results/plots'\n",
    "\n",
    "try:\n",
    "    os.mkdir(plots_dir)\n",
    "except:\n",
    "    pass\n",
    "\n",
    "results = pd.DataFrame(list(zip( (int(x) for x in test_targs), (int(x) for x in test_preds))),columns =['target', 'pred'])\n",
    "\n",
    "#print(results)\n",
    "results.to_csv('results/targets_vs_preds_emb_{}_HN_{}_nFilt_{}_do_{}_energy_{}_separated_{}.csv'.format(embedding,numHN,numFilter,int(dropOutRate*10), keep_energy, str(esm_1b_separated)), index=False)\n",
    "\n",
    "\n",
    "#-------- Performance Evaluation --------#\n",
    "# The results change every time we train, we should check why (maybe we missed something or did wrong with the seeds?)\n",
    "\n",
    "print(\"AUC: \", roc_auc_score(results['target'], results['pred']))\n",
    "print(\"MCC: \", matthews_corrcoef(results['target'], results['pred']))\n",
    "\n",
    "confusion_matrix = pd.crosstab(results['target'], results['pred'], rownames=['Actual'], colnames=['Predicted'])\n",
    "sn.heatmap(confusion_matrix, annot=True, cmap='Blues', fmt='g')\n",
    "plt.show()\n",
    "\n",
    "# Plot roc curve\n",
    "\n",
    "fpr, tpr, thres = roc_curve(results['target'], results['pred'])\n",
    "print('AUC: {:.3f}'.format(roc_auc_score(results['target'], results['pred'])))\n",
    "\n",
    "print( len([i for i, (a, b) in enumerate(zip(results['pred'], results['target'])) if a != b]))\n",
    "\n",
    "plt.figure(figsize=(8,6))\n",
    "\n",
    "# roc curve\n",
    "plt.plot(fpr, tpr, \"b\", label='ROC Curve')\n",
    "plt.plot([0,1],[0,1], \"k--\", label='Random Guess')\n",
    "plt.xlabel(\"false positive rate\")\n",
    "plt.ylabel(\"true positive rate\")\n",
    "plt.legend(loc=\"best\")\n",
    "plt.title(\"ROC curve\")\n",
    "\n",
    "plt.savefig('results/plots/targets_vs_preds_emb_{}_HN_{}_nFilt_{}_do_{}_energy_{}_separated_{}_ROC.png'.format(embedding,numHN,numFilter,int(dropOutRate*10), keep_energy, str(esm_1b_separated)))\n",
    "plt.show()\n",
    "\n",
    "AUC = roc_auc_score(results['target'], results['pred'])\n",
    "MCC = matthews_corrcoef(results['target'], results['pred'])\n",
    "ACC = accuracy_score(results['target'], results['pred'])\n",
    "print(\"AUC: \", AUC)\n",
    "print(\"MCC: \", MCC)\n",
    "print(\"ACC: \", ACC)"
   ]
  },
  {
   "cell_type": "code",
   "execution_count": 16,
   "id": "8218f21b",
   "metadata": {
    "execution": {
     "iopub.execute_input": "2021-12-03T18:49:18.970323Z",
     "iopub.status.busy": "2021-12-03T18:49:18.969598Z",
     "iopub.status.idle": "2021-12-03T18:49:23.955660Z",
     "shell.execute_reply": "2021-12-03T18:49:23.956493Z"
    },
    "papermill": {
     "duration": 5.090324,
     "end_time": "2021-12-03T18:49:23.956746",
     "exception": false,
     "start_time": "2021-12-03T18:49:18.866422",
     "status": "completed"
    },
    "tags": []
   },
   "outputs": [
    {
     "name": "stdout",
     "output_type": "stream",
     "text": [
      "hyperparameter grid\n"
     ]
    },
    {
     "name": "stdout",
     "output_type": "stream",
     "text": [
      "Name: hyperparameter grid\n",
      "Experiment_id: 1\n",
      "Artifact Location: file:///home/shannara/DL_02456/workstation/mlruns/1\n"
     ]
    }
   ],
   "source": [
    "#storing values\n",
    "import mlflow\n",
    "import mlflow.sklearn\n",
    "\n",
    "print(name_experiment)\n",
    "exp = mlflow.set_experiment(name_experiment)\n",
    "experiment = mlflow.get_experiment(exp.experiment_id)\n",
    "\n",
    "print(\"Name: {}\".format(experiment.name))\n",
    "print(\"Experiment_id: {}\".format(experiment.experiment_id))\n",
    "print(\"Artifact Location: {}\".format(experiment.artifact_location))\n",
    "\n",
    "with mlflow.start_run():\n",
    "    mlflow.log_param('embedding', embedding) \n",
    "    \n",
    "    mlflow.log_param('esm_1b_separated', str(esm_1b_separated)) ### update\n",
    "    \n",
    "    mlflow.log_param('Hidden Neurons', numHN)\n",
    "    mlflow.log_param('filters CNN', numFilter)\n",
    "    mlflow.log_param('Dropout rate', dropOutRate)\n",
    "    mlflow.log_param('learning rate', learning_rate)\n",
    "    mlflow.log_param('Weight decay', weight_decay)\n",
    "    \n",
    "    mlflow.log_metric('test AUC', AUC)\n",
    "    mlflow.log_metric('test MCC', MCC)\n",
    "    mlflow.log_metric('test ACC', ACC)\n",
    "    \n",
    "    mlflow.log_metric('train ACC', train_acc[-1])\n",
    "    mlflow.log_metric('train AUC', train_auc[-1])\n",
    "    mlflow.log_metric('valid ACC', valid_acc[-1])\n",
    "    mlflow.log_metric('valid AUC', valid_auc[-1])\n"
   ]
  },
  {
   "cell_type": "code",
   "execution_count": 17,
   "id": "fab2b2e8",
   "metadata": {
    "execution": {
     "iopub.execute_input": "2021-12-03T18:49:24.161998Z",
     "iopub.status.busy": "2021-12-03T18:49:24.161237Z",
     "iopub.status.idle": "2021-12-03T18:49:24.168183Z",
     "shell.execute_reply": "2021-12-03T18:49:24.168843Z"
    },
    "papermill": {
     "duration": 0.114644,
     "end_time": "2021-12-03T18:49:24.169091",
     "exception": false,
     "start_time": "2021-12-03T18:49:24.054447",
     "status": "completed"
    },
    "tags": []
   },
   "outputs": [
    {
     "name": "stdout",
     "output_type": "stream",
     "text": [
      "\n",
      "\n",
      "embedding esm-1b\n",
      "esm_1b_separated True\n",
      "Hidden Neurons 64\n",
      "filters CNN 100\n",
      "Dropout rate 0.3\n",
      "learning rate 0.001\n",
      "Weight decay 0.0005\n",
      "test AUC 0.8041297221183252\n",
      "test MCC 0.6181606350434411\n",
      "test ACC 0.8591549295774648\n",
      "train ACC 0.9336367992333493\n",
      "train AUC 0.9611486776338851\n",
      "valid ACC 0.8746736292428199\n",
      "valid AUC 0.9024921205180121\n"
     ]
    }
   ],
   "source": [
    "from csv import writer\n",
    "\n",
    "\n",
    "print(\"\\n\")\n",
    "print('embedding', embedding) \n",
    "\n",
    "print('esm_1b_separated', str(esm_1b_separated)) ### update\n",
    "\n",
    "print('Hidden Neurons', numHN)\n",
    "print('filters CNN', numFilter)\n",
    "print('Dropout rate', dropOutRate)\n",
    "print('learning rate', learning_rate)\n",
    "print('Weight decay', weight_decay)\n",
    "\n",
    "print('test AUC', AUC)\n",
    "print('test MCC', MCC)\n",
    "print('test ACC', ACC)\n",
    "\n",
    "print('train ACC', train_acc[-1])\n",
    "print('train AUC', train_auc[-1])\n",
    "print('valid ACC', valid_acc[-1])\n",
    "print('valid AUC', valid_auc[-1])\n",
    "\n",
    "\n",
    "#List = ['embedding', 'numHN', 'numFilter', 'dropOutRate', 'learning_rate', 'weight_decay', 'AUC', 'MCC', 'ACC', 'train_acc', 'train_auc', 'valid_acc', 'valid_auc' ]\n",
    "List = [embedding, numHN, numFilter, dropOutRate, learning_rate, weight_decay, AUC, MCC, ACC, train_acc[-1], train_auc[-1], valid_acc[-1], valid_auc[-1] ]\n",
    "\n",
    "with open('separated_results.csv', 'a') as f_object:\n",
    "    writer_object = writer(f_object)\n",
    "  \n",
    "    writer_object.writerow(List)\n",
    "  \n",
    "    f_object.close()"
   ]
  }
 ],
 "metadata": {
  "celltoolbar": "Tags",
  "kernelspec": {
   "display_name": "Python 3",
   "language": "python",
   "name": "python3"
  },
  "language_info": {
   "codemirror_mode": {
    "name": "ipython",
    "version": 3
   },
   "file_extension": ".py",
   "mimetype": "text/x-python",
   "name": "python",
   "nbconvert_exporter": "python",
   "pygments_lexer": "ipython3",
   "version": "3.8.5"
  },
  "papermill": {
   "default_parameters": {},
   "duration": 1995.30221,
   "end_time": "2021-12-03T18:49:27.585871",
   "environment_variables": {},
   "exception": null,
   "input_path": "main3_workstation.ipynb",
   "output_path": "notebooks/20211203_14-11-17_main3_encoding_esm-1b_numHN_64_filters_100_dr_3_lr_0001_wc_00005_separated_True.ipynb",
   "parameters": {
    "dropOutRate": 0.3,
    "embedding": "esm-1b",
    "esm_1b_separated": true,
    "learning_rate": 0.001,
    "name_experiment": "hyperparameter grid",
    "numFilter": 100,
    "numHN": 64,
    "weight_decay": 0.0005
   },
   "start_time": "2021-12-03T18:16:12.283661",
   "version": "2.3.3"
  }
 },
 "nbformat": 4,
 "nbformat_minor": 5
}