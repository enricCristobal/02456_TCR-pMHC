{
 "cells": [
  {
   "cell_type": "code",
   "execution_count": 1,
   "id": "3b260f2f",
   "metadata": {
    "execution": {
     "iopub.execute_input": "2021-12-02T19:44:11.444296Z",
     "iopub.status.busy": "2021-12-02T19:44:11.443390Z",
     "iopub.status.idle": "2021-12-02T19:44:14.109323Z",
     "shell.execute_reply": "2021-12-02T19:44:14.110093Z"
    },
    "papermill": {
     "duration": 2.728505,
     "end_time": "2021-12-02T19:44:14.110418",
     "exception": false,
     "start_time": "2021-12-02T19:44:11.381913",
     "status": "completed"
    },
    "tags": []
   },
   "outputs": [],
   "source": [
    "#-------- Import Libraries --------#\n",
    "\n",
    "import torch\n",
    "import time\n",
    "import os\n",
    "import sys\n",
    "import random\n",
    "import pickle\n",
    "import mlflow\n",
    "import numpy as np\n",
    "import pandas as pd\n",
    "import torch.nn as nn\n",
    "import seaborn as sn\n",
    "import matplotlib.pyplot as plt\n",
    "from datetime import date\n",
    "from sklearn.metrics import matthews_corrcoef\n",
    "import torch.optim as optim  # For all Optimization algorithms, SGD, Adam, etc.\n",
    "import torch.nn.functional as F  # All functions that don't have any parameters\n",
    "from sklearn.metrics import accuracy_score, roc_auc_score, roc_curve, auc"
   ]
  },
  {
   "cell_type": "code",
   "execution_count": 2,
   "id": "3423c37a-4b59-4a1f-93f8-4ef70f490869",
   "metadata": {
    "execution": {
     "iopub.execute_input": "2021-12-02T19:44:14.264856Z",
     "iopub.status.busy": "2021-12-02T19:44:14.263882Z",
     "iopub.status.idle": "2021-12-02T19:44:14.287876Z",
     "shell.execute_reply": "2021-12-02T19:44:14.288342Z"
    },
    "papermill": {
     "duration": 0.100387,
     "end_time": "2021-12-02T19:44:14.288507",
     "exception": false,
     "start_time": "2021-12-02T19:44:14.188120",
     "status": "completed"
    },
    "tags": []
   },
   "outputs": [],
   "source": [
    "#-------- Import Modules from project--------#\n",
    "import encoding as enc\n",
    "from model import Net, Net_thesis, Net_project\n",
    "import functions as func"
   ]
  },
  {
   "cell_type": "code",
   "execution_count": 3,
   "id": "c4211d09",
   "metadata": {
    "execution": {
     "iopub.execute_input": "2021-12-02T19:44:14.370182Z",
     "iopub.status.busy": "2021-12-02T19:44:14.369482Z",
     "iopub.status.idle": "2021-12-02T19:44:14.373273Z",
     "shell.execute_reply": "2021-12-02T19:44:14.373728Z"
    },
    "papermill": {
     "duration": 0.046954,
     "end_time": "2021-12-02T19:44:14.373895",
     "exception": false,
     "start_time": "2021-12-02T19:44:14.326941",
     "status": "completed"
    },
    "tags": []
   },
   "outputs": [
    {
     "name": "stdout",
     "output_type": "stream",
     "text": [
      "No GPUs available. Using CPU instead.\n"
     ]
    }
   ],
   "source": [
    "#-------- Set Device --------#\n",
    "\n",
    "if torch.cuda.is_available():\n",
    "    device = torch.device('cuda')\n",
    "    print('There are %d GPU(s) available.' % torch.cuda.device_count())\n",
    "else:\n",
    "    print('No GPUs available. Using CPU instead.')\n",
    "    device = torch.device('cpu')"
   ]
  },
  {
   "cell_type": "code",
   "execution_count": 4,
   "id": "cd5adc66",
   "metadata": {
    "execution": {
     "iopub.execute_input": "2021-12-02T19:44:14.463810Z",
     "iopub.status.busy": "2021-12-02T19:44:14.462803Z",
     "iopub.status.idle": "2021-12-02T19:44:14.465978Z",
     "shell.execute_reply": "2021-12-02T19:44:14.466754Z"
    },
    "papermill": {
     "duration": 0.054216,
     "end_time": "2021-12-02T19:44:14.467028",
     "exception": false,
     "start_time": "2021-12-02T19:44:14.412812",
     "status": "completed"
    },
    "tags": []
   },
   "outputs": [],
   "source": [
    "#-------- Seeds --------#\n",
    "\n",
    "seed_val = 42\n",
    "\n",
    "random.seed(seed_val)\n",
    "np.random.seed(seed_val)\n",
    "torch.manual_seed(seed_val)\n",
    "torch.cuda.manual_seed_all(seed_val)\n",
    "\n",
    "torch.use_deterministic_algorithms(True)"
   ]
  },
  {
   "cell_type": "code",
   "execution_count": 5,
   "id": "4f33ea7b",
   "metadata": {
    "execution": {
     "iopub.execute_input": "2021-12-02T19:44:14.622157Z",
     "iopub.status.busy": "2021-12-02T19:44:14.621231Z",
     "iopub.status.idle": "2021-12-02T19:44:14.623633Z",
     "shell.execute_reply": "2021-12-02T19:44:14.624364Z"
    },
    "papermill": {
     "duration": 0.08351,
     "end_time": "2021-12-02T19:44:14.624590",
     "exception": false,
     "start_time": "2021-12-02T19:44:14.541080",
     "status": "completed"
    },
    "tags": []
   },
   "outputs": [],
   "source": [
    "#-------- Import Modules from project--------#\n",
    "import encoding as enc\n",
    "from model import Net_project\n",
    "import functions as func\n"
   ]
  },
  {
   "cell_type": "code",
   "execution_count": 6,
   "id": "4b37f634",
   "metadata": {
    "execution": {
     "iopub.execute_input": "2021-12-02T19:44:14.747498Z",
     "iopub.status.busy": "2021-12-02T19:44:14.746805Z",
     "iopub.status.idle": "2021-12-02T19:44:16.571417Z",
     "shell.execute_reply": "2021-12-02T19:44:16.572136Z"
    },
    "papermill": {
     "duration": 1.875971,
     "end_time": "2021-12-02T19:44:16.572368",
     "exception": false,
     "start_time": "2021-12-02T19:44:14.696397",
     "status": "completed"
    },
    "tags": []
   },
   "outputs": [
    {
     "name": "stdout",
     "output_type": "stream",
     "text": [
      "1\n",
      "../data/train/P1_input.npz\n"
     ]
    },
    {
     "name": "stdout",
     "output_type": "stream",
     "text": [
      "2\n",
      "../data/train/P2_input.npz\n"
     ]
    },
    {
     "name": "stdout",
     "output_type": "stream",
     "text": [
      "3\n",
      "../data/train/P3_input.npz\n"
     ]
    },
    {
     "name": "stdout",
     "output_type": "stream",
     "text": [
      "4\n",
      "../data/train/P4_input.npz\n"
     ]
    },
    {
     "name": "stdout",
     "output_type": "stream",
     "text": [
      "\n",
      "Number of files: 5\n",
      "Size of file 0 1526\n",
      "Size of file 1 1168\n",
      "Size of file 2 1480\n",
      "Size of file 3 1532\n",
      "Size of file 4 1207\n"
     ]
    }
   ],
   "source": [
    "#-------- Import Dataset --------#\n",
    "\n",
    "data_list = []\n",
    "target_list = []\n",
    "\n",
    "import glob\n",
    "for i in range(4):\n",
    "    i = i+1\n",
    "    print(i)\n",
    "    for fp in glob.glob(\"../data/train/*{}*input.npz\".format(i)):\n",
    "        print(fp)\n",
    "        data = np.load(fp)[\"arr_0\"]\n",
    "        targets = np.load(fp.replace(\"input\", \"labels\"))[\"arr_0\"]\n",
    "        data_list.append(data)\n",
    "        target_list.append(targets)\n",
    "\n",
    "for fp in glob.glob(\"../data/validation/*5*input.npz\"):\n",
    "    data = np.load(fp)[\"arr_0\"]\n",
    "    targets = np.load(fp.replace(\"input\", \"labels\"))[\"arr_0\"]\n",
    "    data_list.append(data)\n",
    "    target_list.append(targets)\n",
    "    \n",
    "data_partitions = len(data_list)\n",
    "\n",
    "print(\"\\nNumber of files:\", data_partitions)\n",
    "\n",
    "for i in range(data_partitions):\n",
    "    print(\"Size of file\", i, len(data_list[i]))"
   ]
  },
  {
   "cell_type": "code",
   "execution_count": 7,
   "id": "a9897fc5",
   "metadata": {
    "execution": {
     "iopub.execute_input": "2021-12-02T19:44:16.745260Z",
     "iopub.status.busy": "2021-12-02T19:44:16.744272Z",
     "iopub.status.idle": "2021-12-02T19:44:16.746861Z",
     "shell.execute_reply": "2021-12-02T19:44:16.747629Z"
    },
    "papermill": {
     "duration": 0.09522,
     "end_time": "2021-12-02T19:44:16.747883",
     "exception": false,
     "start_time": "2021-12-02T19:44:16.652663",
     "status": "completed"
    },
    "tags": [
     "parameters"
    ]
   },
   "outputs": [],
   "source": [
    "#-------- Select the network you would like to use -------#\n",
    "\n",
    "CNN = False # ONLY CNN\n",
    "CNN_RNN = True # CNN + RNN\n",
    "\n",
    "# Hyperparameters to fine-tune\n",
    "embedding = \"esm_ASM\"\n",
    "numHN=32\n",
    "numFilter=100\n",
    "dropOutRate=0.1\n",
    "learning_rate=0.001\n",
    "weight_decay = 0.0001\n",
    "\n",
    "#for ml-flow\n",
    "name_experiment = \"hyperparameter grid\"\n",
    "\n",
    "\n",
    "##--- parameters fixed\n",
    "keep_energy=True\n",
    "cross_validation = False\n",
    "bat_size = 128\n",
    "num_classes=1\n",
    "epochs = 100\n",
    "patience=10\n",
    "criterion = nn.BCEWithLogitsLoss()"
   ]
  },
  {
   "cell_type": "code",
   "execution_count": 8,
   "id": "8abe3f22",
   "metadata": {
    "execution": {
     "iopub.execute_input": "2021-12-02T19:44:16.858166Z",
     "iopub.status.busy": "2021-12-02T19:44:16.857566Z",
     "iopub.status.idle": "2021-12-02T19:44:16.859999Z",
     "shell.execute_reply": "2021-12-02T19:44:16.860453Z"
    },
    "papermill": {
     "duration": 0.053137,
     "end_time": "2021-12-02T19:44:16.860625",
     "exception": false,
     "start_time": "2021-12-02T19:44:16.807488",
     "status": "completed"
    },
    "tags": [
     "injected-parameters"
    ]
   },
   "outputs": [],
   "source": [
    "# Parameters\n",
    "embedding = \"esm_ASM\"\n",
    "numHN = 26\n",
    "numFilter = 100\n",
    "dropOutRate = 0.3\n",
    "keep_energy = True\n",
    "learning_rate = 0.001\n",
    "weight_decay = 0.0001\n",
    "name_experiment = \"hyperparameter grid\"\n"
   ]
  },
  {
   "cell_type": "code",
   "execution_count": 9,
   "id": "f46dc5c6",
   "metadata": {
    "execution": {
     "iopub.execute_input": "2021-12-02T19:44:16.957305Z",
     "iopub.status.busy": "2021-12-02T19:44:16.956695Z",
     "iopub.status.idle": "2021-12-02T19:44:21.823444Z",
     "shell.execute_reply": "2021-12-02T19:44:21.824156Z"
    },
    "papermill": {
     "duration": 4.919315,
     "end_time": "2021-12-02T19:44:21.824391",
     "exception": false,
     "start_time": "2021-12-02T19:44:16.905076",
     "status": "completed"
    },
    "tags": []
   },
   "outputs": [],
   "source": [
    "#embedding of data\n",
    "\n",
    "#create directory to fetch/store embedded\n",
    "embedding_dir= '../data/embeddedFiles/'\n",
    "try:\n",
    "    os.mkdir(embedding_dir)\n",
    "except:\n",
    "    pass\n",
    "\n",
    "\n",
    "#try to fecth if already exist\n",
    "if embedding == \"Baseline\":   \n",
    "    data_list_enc = data_list\n",
    "else:\n",
    "    try:\n",
    "        infile = open(embedding_dir+'dataset-{}'.format(embedding), 'rb')\n",
    "        data_list_enc =  pickle.load(infile)\n",
    "        infile.close()\n",
    "\n",
    "    #if no prior file, use encoder script to encode:\n",
    "    except:\n",
    "        print(\"embedded file not found\")\n",
    "        sys.exit()"
   ]
  },
  {
   "cell_type": "code",
   "execution_count": 10,
   "id": "98b493bf",
   "metadata": {
    "execution": {
     "iopub.execute_input": "2021-12-02T19:44:22.006345Z",
     "iopub.status.busy": "2021-12-02T19:44:22.005401Z",
     "iopub.status.idle": "2021-12-02T19:44:22.009075Z",
     "shell.execute_reply": "2021-12-02T19:44:22.009829Z"
    },
    "papermill": {
     "duration": 0.102782,
     "end_time": "2021-12-02T19:44:22.010074",
     "exception": false,
     "start_time": "2021-12-02T19:44:21.907292",
     "status": "completed"
    },
    "tags": []
   },
   "outputs": [
    {
     "name": "stdout",
     "output_type": "stream",
     "text": [
      "5\n",
      "1526\n",
      "420\n",
      "768\n"
     ]
    }
   ],
   "source": [
    "print(len(data_list_enc))\n",
    "print(len(data_list_enc[0]))\n",
    "print(len(data_list_enc[0][0]))\n",
    "print(len(data_list_enc[0][0][0]))\n"
   ]
  },
  {
   "cell_type": "code",
   "execution_count": 11,
   "id": "3eafd6df",
   "metadata": {
    "execution": {
     "iopub.execute_input": "2021-12-02T19:44:22.133009Z",
     "iopub.status.busy": "2021-12-02T19:44:22.132390Z",
     "iopub.status.idle": "2021-12-02T19:44:28.879358Z",
     "shell.execute_reply": "2021-12-02T19:44:28.880147Z"
    },
    "papermill": {
     "duration": 6.802097,
     "end_time": "2021-12-02T19:44:28.880399",
     "exception": false,
     "start_time": "2021-12-02T19:44:22.078302",
     "status": "completed"
    },
    "tags": []
   },
   "outputs": [],
   "source": [
    "# Add energy terms from original dataset         \n",
    "if keep_energy:\n",
    "    if embedding == \"Baseline\":\n",
    "        energy_set =''\n",
    "        pad = 0\n",
    "        pass\n",
    "    else:\n",
    "        for i in range (len(data_list_enc)):\n",
    "            energy_set = func.extract_energy_terms(data_list[i]) \n",
    "            for j in range(0, len(energy_set)):\n",
    "                pad = 420 - len(energy_set[j])\n",
    "                energy_set[j] = np.pad(energy_set[j], ((0, pad), (0, 0)), 'constant')\n",
    "                data_list_enc[i][j] = np.concatenate((data_list_enc[i][j], energy_set[j]), axis=1)\n",
    "\n",
    "                \n",
    "        "
   ]
  },
  {
   "cell_type": "code",
   "execution_count": 12,
   "id": "d642772f",
   "metadata": {
    "execution": {
     "iopub.execute_input": "2021-12-02T19:44:29.066679Z",
     "iopub.status.busy": "2021-12-02T19:44:29.065793Z",
     "iopub.status.idle": "2021-12-02T19:44:29.069453Z",
     "shell.execute_reply": "2021-12-02T19:44:29.070150Z"
    },
    "papermill": {
     "duration": 0.100177,
     "end_time": "2021-12-02T19:44:29.070393",
     "exception": false,
     "start_time": "2021-12-02T19:44:28.970216",
     "status": "completed"
    },
    "tags": []
   },
   "outputs": [
    {
     "name": "stdout",
     "output_type": "stream",
     "text": [
      "5\n",
      "1526\n",
      "420\n",
      "802\n"
     ]
    }
   ],
   "source": [
    "print(len(data_list_enc))\n",
    "print(len(data_list_enc[0]))\n",
    "print(len(data_list_enc[0][0]))\n",
    "print(len(data_list_enc[0][0][0]))"
   ]
  },
  {
   "cell_type": "code",
   "execution_count": 13,
   "id": "4057a335",
   "metadata": {
    "execution": {
     "iopub.execute_input": "2021-12-02T19:44:29.363714Z",
     "iopub.status.busy": "2021-12-02T19:44:29.362783Z",
     "iopub.status.idle": "2021-12-02T19:44:29.366850Z",
     "shell.execute_reply": "2021-12-02T19:44:29.367577Z"
    },
    "papermill": {
     "duration": 0.211538,
     "end_time": "2021-12-02T19:44:29.367819",
     "exception": false,
     "start_time": "2021-12-02T19:44:29.156281",
     "status": "completed"
    },
    "tags": []
   },
   "outputs": [
    {
     "data": {
      "text/plain": [
       "84"
      ]
     },
     "execution_count": 13,
     "metadata": {},
     "output_type": "execute_result"
    }
   ],
   "source": [
    "import gc\n",
    "del data_list, energy_set, pad\n",
    "gc.collect()"
   ]
  },
  {
   "cell_type": "code",
   "execution_count": 14,
   "id": "5b04c913",
   "metadata": {
    "execution": {
     "iopub.execute_input": "2021-12-02T19:44:29.574903Z",
     "iopub.status.busy": "2021-12-02T19:44:29.573870Z",
     "iopub.status.idle": "2021-12-02T19:44:50.376037Z",
     "shell.execute_reply": "2021-12-02T19:44:50.376825Z"
    },
    "papermill": {
     "duration": 20.907226,
     "end_time": "2021-12-02T19:44:50.377080",
     "exception": false,
     "start_time": "2021-12-02T19:44:29.469854",
     "status": "completed"
    },
    "tags": []
   },
   "outputs": [
    {
     "name": "stdout",
     "output_type": "stream",
     "text": [
      "Training set shape: 4174 420 802\n"
     ]
    },
    {
     "name": "stdout",
     "output_type": "stream",
     "text": [
      "Validation set shape: 1532 420 802\n"
     ]
    },
    {
     "name": "stdout",
     "output_type": "stream",
     "text": [
      "Test set shape: 1207 420 802\n"
     ]
    },
    {
     "data": {
      "text/plain": [
       "0"
      ]
     },
     "execution_count": 14,
     "metadata": {},
     "output_type": "execute_result"
    }
   ],
   "source": [
    "X_train = np.concatenate(data_list_enc[0:3])\n",
    "y_train = np.concatenate(target_list[0:3])\n",
    "nsamples, nx, ny = X_train.shape\n",
    "print(\"Training set shape:\", nsamples,nx,ny)\n",
    "\n",
    "X_valid = np.concatenate(data_list_enc[3:4])\n",
    "y_valid = np.concatenate(target_list[3:4])\n",
    "nsamples, nx, ny = X_valid.shape\n",
    "print(\"Validation set shape:\", nsamples,nx,ny)\n",
    "\n",
    "\n",
    "X_test = np.concatenate(data_list_enc[4:])\n",
    "y_test = np.concatenate(target_list[4:])\n",
    "nsamples, nx, ny = X_test.shape\n",
    "print(\"Test set shape:\", nsamples,nx,ny)\n",
    "\n",
    "# features and residues\n",
    "features = list(range(ny))\n",
    "residues = list(range(nx)) \n",
    "n_features = len(features)\n",
    "input_size = len(residues)\n",
    "\n",
    "del data_list_enc\n",
    "gc.collect()\n",
    "\n",
    "# Dataloader\n",
    "train_ds = []\n",
    "for i in range(len(X_train)):\n",
    "    train_ds.append([np.transpose(X_train[i][:,features]), y_train[i]])\n",
    "val_ds = []\n",
    "for i in range(len(X_valid)):\n",
    "    val_ds.append([np.transpose(X_valid[i][:,features]), y_valid[i]])\n",
    "test_ds = []\n",
    "for i in range(len(X_test)):\n",
    "    test_ds.append([np.transpose(X_test[i][:,features]), y_test[i]])\n",
    "    \n",
    "    \n",
    "train_ldr = torch.utils.data.DataLoader(train_ds,batch_size=bat_size, shuffle=True)\n",
    "val_ldr = torch.utils.data.DataLoader(val_ds,batch_size=bat_size, shuffle=True)\n",
    "test_ldr = torch.utils.data.DataLoader(test_ds,batch_size=len(test_ds), shuffle=True)\n",
    "\n",
    "\n",
    "del X_train, X_test, y_train, y_test \n",
    "gc.collect()"
   ]
  },
  {
   "cell_type": "code",
   "execution_count": 15,
   "id": "1153ff8d",
   "metadata": {
    "execution": {
     "iopub.execute_input": "2021-12-02T19:44:50.586252Z",
     "iopub.status.busy": "2021-12-02T19:44:50.585087Z",
     "iopub.status.idle": "2021-12-02T19:50:49.486188Z",
     "shell.execute_reply": "2021-12-02T19:50:49.486968Z"
    },
    "papermill": {
     "duration": 359.01033,
     "end_time": "2021-12-02T19:50:49.487220",
     "exception": false,
     "start_time": "2021-12-02T19:44:50.476890",
     "status": "completed"
    },
    "tags": []
   },
   "outputs": [
    {
     "name": "stdout",
     "output_type": "stream",
     "text": [
      "Parameters:\n",
      "cross_validation False\n",
      "embedding esm_ASM\n",
      "numHN 26\n",
      "numFilter 100\n",
      "dropOutRate 0.3\n",
      "keep_energy True\n",
      "num_classes 1\n",
      "learning_rate 0.001\n",
      "bat_size 128\n",
      "patience 10\n",
      "criterion BCEWithLogitsLoss()\n",
      "\n",
      "\n",
      "\n"
     ]
    },
    {
     "name": "stdout",
     "output_type": "stream",
     "text": [
      "Epoch 0  \t Train loss: 0.00445 \t Validation loss: 0.00412\n"
     ]
    },
    {
     "name": "stdout",
     "output_type": "stream",
     "text": [
      "Epoch 5  \t Train loss: 0.00288 \t Validation loss: 0.00303\n"
     ]
    },
    {
     "name": "stdout",
     "output_type": "stream",
     "text": [
      "Epoch 10  \t Train loss: 0.00216 \t Validation loss: 0.00301\n"
     ]
    },
    {
     "name": "stdout",
     "output_type": "stream",
     "text": [
      "Epoch 15  \t Train loss: 0.00155 \t Validation loss: 0.00314\n"
     ]
    },
    {
     "name": "stdout",
     "output_type": "stream",
     "text": [
      "Early stopping\n",
      "\n"
     ]
    },
    {
     "name": "stdout",
     "output_type": "stream",
     "text": [
      "0\n"
     ]
    },
    {
     "name": "stdout",
     "output_type": "stream",
     "text": [
      "Done in 5.98 mins.\n",
      "test_loss, test_acc, test_auc:\n",
      "0.5381616950035095 , 0.8591549295774648 , 0.75754108820488\n"
     ]
    }
   ],
   "source": [
    "\n",
    "###############################\n",
    "###    CNN+RNN (thesis)     ###\n",
    "###############################\n",
    "start = time.time()\n",
    "\n",
    "if cross_validation == False:\n",
    "    \n",
    "    print(\"Parameters:\")\n",
    "    print(\"cross_validation\", cross_validation)\n",
    "    print(\"embedding\", embedding)\n",
    "    print(\"numHN\", numHN)\n",
    "    print(\"numFilter\", numFilter)\n",
    "    print(\"dropOutRate\", dropOutRate)\n",
    "    print(\"keep_energy\", keep_energy)\n",
    "    print(\"num_classes\", num_classes)\n",
    "    print(\"learning_rate\", learning_rate)\n",
    "    print(\"bat_size\", bat_size)\n",
    "    print(\"patience\", patience)\n",
    "    print(\"criterion\", criterion)\n",
    "    print(\"\\n\\n\")\n",
    "    \n",
    "    #-------- Train --------#\n",
    "\n",
    "    # Initialize network\n",
    "    net = Net_project(num_classes=num_classes, \n",
    "             n_features=n_features, \n",
    "             numHN=numHN, \n",
    "             numFilter=numFilter,\n",
    "             dropOutRate=dropOutRate).to(device)\n",
    "    \n",
    "    optimizer = optim.Adam(net.parameters(), lr=learning_rate,\n",
    "                           weight_decay=weight_decay,\n",
    "                           amsgrad=True,)\n",
    "    \n",
    "    train_acc, train_losses, train_auc, valid_acc, valid_losses, valid_auc, val_preds, val_targs, test_preds, test_targs, test_loss, test_acc, test_auc = func.train_project(net, optimizer, train_ldr, val_ldr, test_ldr, X_valid, epochs, criterion, patience)\n",
    "\n",
    "else:\n",
    "    pass\n",
    "\n",
    "print(\"Done in\", round((time.time()-start)/60,2), \"mins.\" )\n",
    "\n",
    "print(\"test_loss, test_acc, test_auc:\")\n",
    "print(test_loss.item(), \",\", test_acc[0], \",\", test_auc[0])\n",
    "\n",
    "\n"
   ]
  },
  {
   "cell_type": "code",
   "execution_count": 16,
   "id": "12ec0ebb",
   "metadata": {
    "execution": {
     "iopub.execute_input": "2021-12-02T19:50:49.766514Z",
     "iopub.status.busy": "2021-12-02T19:50:49.763277Z",
     "iopub.status.idle": "2021-12-02T19:50:50.742075Z",
     "shell.execute_reply": "2021-12-02T19:50:50.742861Z"
    },
    "papermill": {
     "duration": 1.13563,
     "end_time": "2021-12-02T19:50:50.743117",
     "exception": false,
     "start_time": "2021-12-02T19:50:49.607487",
     "status": "completed"
    },
    "tags": []
   },
   "outputs": [
    {
     "data": {
      "image/png": "[encoded data removed]",
      "text/plain": [
       "<Figure size 432x288 with 1 Axes>"
      ]
     },
     "metadata": {
      "needs_background": "light"
     },
     "output_type": "display_data"
    },
    {
     "data": {
      "image/png": "[encoded data removed]",
      "text/plain": [
       "<Figure size 432x288 with 1 Axes>"
      ]
     },
     "metadata": {
      "needs_background": "light"
     },
     "output_type": "display_data"
    },
    {
     "data": {
      "image/png": "[encoded data removed]",
      "text/plain": [
       "<Figure size 432x288 with 1 Axes>"
      ]
     },
     "metadata": {
      "needs_background": "light"
     },
     "output_type": "display_data"
    },
    {
     "name": "stdout",
     "output_type": "stream",
     "text": [
      "AUC:  0.75754108820488\n",
      "MCC:  0.5958116535143241\n"
     ]
    },
    {
     "data": {
      "image/png": "[encoded data removed]",
      "text/plain": [
       "<Figure size 432x288 with 2 Axes>"
      ]
     },
     "metadata": {
      "needs_background": "light"
     },
     "output_type": "display_data"
    },
    {
     "name": "stdout",
     "output_type": "stream",
     "text": [
      "AUC: 0.758\n",
      "170\n"
     ]
    },
    {
     "data": {
      "image/png": "[encoded data removed]",
      "text/plain": [
       "<Figure size 576x432 with 1 Axes>"
      ]
     },
     "metadata": {
      "needs_background": "light"
     },
     "output_type": "display_data"
    },
    {
     "name": "stdout",
     "output_type": "stream",
     "text": [
      "AUC:  0.75754108820488\n",
      "MCC:  0.5958116535143241\n",
      "ACC:  0.8591549295774648\n"
     ]
    }
   ],
   "source": [
    "#-------- Performance --------#\n",
    "\n",
    "epoch = np.arange(1,len(train_losses)+1)\n",
    "plt.figure()\n",
    "plt.plot(epoch, train_losses, 'r', epoch, valid_losses, 'b')\n",
    "plt.legend(['Train Loss','Validation Loss'])\n",
    "plt.xlabel('Epoch'), plt.ylabel('Loss')\n",
    "\n",
    "epoch = np.arange(1,len(train_auc)+1)\n",
    "plt.figure()\n",
    "plt.plot(epoch, train_auc, 'r', epoch, valid_auc, 'b')\n",
    "plt.legend(['Train AUC','Validation AUC'])\n",
    "plt.xlabel('Epoch'), plt.ylabel('AUC')\n",
    "\n",
    "epoch = np.arange(1,len(train_acc)+1)\n",
    "plt.figure()\n",
    "plt.plot(epoch, train_acc, 'r', epoch, valid_acc, 'b')\n",
    "plt.legend(['Train Accuracy','Validation Accuracy'])\n",
    "plt.xlabel('Epoch'), plt.ylabel('Acc')\n",
    "plt.show()\n",
    "\n",
    "\n",
    "#-------- Save results --------#\n",
    "\n",
    "results = pd.DataFrame(list(zip( (int(x) for x in test_targs), (int(x) for x in test_preds))),columns =['target', 'pred'])\n",
    "\n",
    "#print(results)\n",
    "results.to_csv('../results/targets_vs_preds_emb_{}_HN_{}_nFilt_{}_do_{}_energ_{}.csv'.format(embedding,numHN,numFilter,int(dropOutRate*10), keep_energy), index=False)\n",
    "\n",
    "\n",
    "#-------- Performance Evaluation --------#\n",
    "# The results change every time we train, we should check why (maybe we missed something or did wrong with the seeds?)\n",
    "\n",
    "print(\"AUC: \", roc_auc_score(results['target'], results['pred']))\n",
    "print(\"MCC: \", matthews_corrcoef(results['target'], results['pred']))\n",
    "\n",
    "confusion_matrix = pd.crosstab(results['target'], results['pred'], rownames=['Actual'], colnames=['Predicted'])\n",
    "sn.heatmap(confusion_matrix, annot=True, cmap='Blues', fmt='g')\n",
    "plt.show()\n",
    "\n",
    "# Plot roc curve\n",
    "\n",
    "fpr, tpr, thres = roc_curve(results['target'], results['pred'])\n",
    "print('AUC: {:.3f}'.format(roc_auc_score(results['target'], results['pred'])))\n",
    "\n",
    "print( len([i for i, (a, b) in enumerate(zip(results['pred'], results['target'])) if a != b]))\n",
    "\n",
    "plt.figure(figsize=(8,6))\n",
    "\n",
    "# roc curve\n",
    "plt.plot(fpr, tpr, \"b\", label='ROC Curve')\n",
    "plt.plot([0,1],[0,1], \"k--\", label='Random Guess')\n",
    "plt.xlabel(\"false positive rate\")\n",
    "plt.ylabel(\"true positive rate\")\n",
    "plt.legend(loc=\"best\")\n",
    "plt.title(\"ROC curve\")\n",
    "\n",
    "try:\n",
    "    mkdir('results/plots/')\n",
    "except:\n",
    "    pass\n",
    "\n",
    "plt.savefig('../results/plots/targets_vs_preds_emb_{}_HN_{}_nFilt_{}_do_{}_energ_{}_ROC.png'.format(embedding,numHN,numFilter,int(dropOutRate*10), keep_energy))\n",
    "plt.show()\n",
    "\n",
    "AUC = roc_auc_score(results['target'], results['pred'])\n",
    "MCC = matthews_corrcoef(results['target'], results['pred'])\n",
    "ACC = accuracy_score(results['target'], results['pred'])\n",
    "print(\"AUC: \", AUC)\n",
    "print(\"MCC: \", MCC)\n",
    "print(\"ACC: \", ACC)"
   ]
  },
  {
   "cell_type": "code",
   "execution_count": 17,
   "id": "8218f21b",
   "metadata": {
    "execution": {
     "iopub.execute_input": "2021-12-02T19:50:51.038735Z",
     "iopub.status.busy": "2021-12-02T19:50:51.037740Z",
     "iopub.status.idle": "2021-12-02T19:50:53.623699Z",
     "shell.execute_reply": "2021-12-02T19:50:53.624466Z"
    },
    "papermill": {
     "duration": 2.74238,
     "end_time": "2021-12-02T19:50:53.624742",
     "exception": false,
     "start_time": "2021-12-02T19:50:50.882362",
     "status": "completed"
    },
    "tags": []
   },
   "outputs": [
    {
     "name": "stdout",
     "output_type": "stream",
     "text": [
      "Name: hyperparameter grid\n",
      "Experiment_id: 1\n",
      "Artifact Location: file:///home/shannara/DL_02456/dayana_run/scripts/mlruns/1\n"
     ]
    }
   ],
   "source": [
    "#storing values\n",
    "import mlflow\n",
    "import mlflow.sklearn\n",
    "\n",
    "exp = mlflow.set_experiment(name_experiment)\n",
    "experiment = mlflow.get_experiment(exp.experiment_id)\n",
    "\n",
    "print(\"Name: {}\".format(experiment.name))\n",
    "print(\"Experiment_id: {}\".format(experiment.experiment_id))\n",
    "print(\"Artifact Location: {}\".format(experiment.artifact_location))\n",
    "\n",
    "with mlflow.start_run():\n",
    "    mlflow.log_param('embedding', embedding) \n",
    "    mlflow.log_param('Hidden Neurons', numHN)\n",
    "    mlflow.log_param('filters CNN', numFilter)\n",
    "    mlflow.log_param('Dropout rate', dropOutRate)\n",
    "    mlflow.log_param('learning rate', learning_rate)\n",
    "    mlflow.log_param('Weight decay', weight_decay)\n",
    "    mlflow.log_metric('test AUC', AUC)\n",
    "    mlflow.log_metric('test MCC', MCC)\n",
    "    mlflow.log_metric('test ACC', ACC)\n",
    "    \n",
    "    mlflow.log_metric('train ACC', train_acc[-1])\n",
    "    mlflow.log_metric('train AUC', train_auc[-1])\n",
    "    mlflow.log_metric('valid ACC', valid_acc[-1])\n",
    "    mlflow.log_metric('valid AUC', valid_auc[-1])\n"
   ]
  }
 ],
 "metadata": {
  "celltoolbar": "Tags",
  "kernelspec": {
   "display_name": "Python 3",
   "language": "python",
   "name": "python3"
  },
  "language_info": {
   "codemirror_mode": {
    "name": "ipython",
    "version": 3
   },
   "file_extension": ".py",
   "mimetype": "text/x-python",
   "name": "python",
   "nbconvert_exporter": "python",
   "pygments_lexer": "ipython3",
   "version": "3.8.5"
  },
  "papermill": {
   "default_parameters": {},
   "duration": 406.273345,
   "end_time": "2021-12-02T19:50:56.524619",
   "environment_variables": {},
   "exception": null,
   "input_path": "main2.ipynb",
   "output_path": "notebooks/20211202_16-45-21_main2_encoding_esm_ASM_numHN_26_filters_100_dr_3_keep_energy_True_lr_0001_wc_00001.ipynb",
   "parameters": {
    "dropOutRate": 0.3,
    "embedding": "esm_ASM",
    "keep_energy": true,
    "learning_rate": 0.001,
    "name_experiment": "hyperparameter grid",
    "numFilter": 100,
    "numHN": 26,
    "weight_decay": 0.0001
   },
   "start_time": "2021-12-02T19:44:10.251274",
   "version": "2.3.3"
  }
 },
 "nbformat": 4,
 "nbformat_minor": 5
}