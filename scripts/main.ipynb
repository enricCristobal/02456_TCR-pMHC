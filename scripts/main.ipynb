{
 "cells": [
  {
   "cell_type": "code",
   "execution_count": 13,
   "id": "7c8da296",
   "metadata": {},
   "outputs": [],
   "source": [
    "#-------- Import Libraries --------#\n",
    "import torch\n",
    "import os\n",
    "import sys\n",
    "import random\n",
    "import numpy as np\n",
    "import pandas as pd\n",
    "import torch.nn as nn\n",
    "import seaborn as sn\n",
    "import matplotlib.pyplot as plt\n",
    "from datetime import date\n",
    "from sklearn.metrics import matthews_corrcoef\n",
    "import torch.optim as optim  # For all Optimization algorithms, SGD, Adam, etc.\n",
    "import torch.nn.functional as F  # All functions that don't have any parameters\n",
    "from sklearn.metrics import accuracy_score, roc_auc_score, roc_curve, auc"
   ]
  },
  {
   "cell_type": "code",
   "execution_count": 2,
   "id": "622375aa",
   "metadata": {},
   "outputs": [],
   "source": [
    "#-------- Requirements --------#\n",
    "#Make sure that you have these ready\n",
    "\n",
    "#!pip install fair-esm"
   ]
  },
  {
   "cell_type": "code",
   "execution_count": 3,
   "id": "ae5f4635",
   "metadata": {},
   "outputs": [],
   "source": [
    "#-------- Import Modules --------#\n",
    "import encoding as enc\n",
    "from model import Net, Net_th\n",
    "import functions as func"
   ]
  },
  {
   "cell_type": "code",
   "execution_count": 4,
   "id": "e2d4557d",
   "metadata": {},
   "outputs": [
    {
     "name": "stdout",
     "output_type": "stream",
     "text": [
      "No GPUs available. Using CPU instead.\n"
     ]
    }
   ],
   "source": [
    "#-------- Set Device --------#\n",
    "\n",
    "if torch.cuda.is_available():\n",
    "    device = torch.device('cuda')\n",
    "    print('There are %d GPU(s) available.' % torch.cuda.device_count())\n",
    "else:\n",
    "    print('No GPUs available. Using CPU instead.')\n",
    "    device = torch.device('cpu')"
   ]
  },
  {
   "cell_type": "code",
   "execution_count": 5,
   "id": "254e4329",
   "metadata": {},
   "outputs": [],
   "source": [
    "#-------- Seeds --------#\n",
    "\n",
    "seed_val = 42\n",
    "\n",
    "random.seed(seed_val)\n",
    "np.random.seed(seed_val)\n",
    "torch.manual_seed(seed_val)\n",
    "torch.cuda.manual_seed_all(seed_val)\n",
    "\n",
    "torch.use_deterministic_algorithms(True)"
   ]
  },
  {
   "cell_type": "code",
   "execution_count": 6,
   "id": "37e1c43c",
   "metadata": {},
   "outputs": [],
   "source": [
    "#-------- Directories --------#\n",
    "\n",
    "DATADIR = '/data/'\n",
    "TRAINDIR = '../data/train'\n",
    "VALIDATIONDIR = '../data/validation'\n",
    "MATRICES = '/data/Matrices'"
   ]
  },
  {
   "cell_type": "code",
   "execution_count": 7,
   "id": "5d283820",
   "metadata": {},
   "outputs": [
    {
     "name": "stdout",
     "output_type": "stream",
     "text": [
      "../data/train already exist.\n",
      "../data/validation already exist.\n"
     ]
    }
   ],
   "source": [
    "#-------- Unzip Train --------#\n",
    "\n",
    "if len(os.listdir(TRAINDIR)) != 0:\n",
    "        print(\"{} already unzipped.\".format(TRAINDIR))\n",
    "else:\n",
    "    !unzip ../data/train.zip -d ../data/train\n",
    "\n",
    "    \n",
    "#-------- Unzip Validation --------#\n",
    "\n",
    "\n",
    "if len(os.listdir(VALIDATIONDIR)) != 0:\n",
    "        print(\"{} already unzipped.\".format(VALIDATIONDIR))\n",
    "else:\n",
    "    !unzip ../data/validation.zip -d ../data/validation"
   ]
  },
  {
   "cell_type": "code",
   "execution_count": 8,
   "id": "edd67086",
   "metadata": {},
   "outputs": [
    {
     "name": "stdout",
     "output_type": "stream",
     "text": [
      "Train directory:\n",
      "\n",
      " P2_labels.npz\n",
      "P3_input.npz\n",
      "P4_input.npz\n",
      "P2_input.npz\n",
      "__MACOSX\n",
      "P1_input.npz\n",
      "P3_labels.npz\n",
      "P4_labels.npz\n",
      "P1_labels.npz \n",
      "\n",
      "\n",
      "Validation directory:\n",
      "\n",
      " P4_input.npz\n",
      "__MACOSX\n",
      "P4_labels.npz\n"
     ]
    }
   ],
   "source": [
    "print('Train directory:\\n\\n', '\\n'.join(str(p) for p in os.listdir(TRAINDIR)), '\\n\\n')\n",
    "print('Validation directory:\\n\\n','\\n'.join(str(p) for p in os.listdir(VALIDATIONDIR)))"
   ]
  },
  {
   "cell_type": "code",
   "execution_count": null,
   "id": "adcb064b",
   "metadata": {},
   "outputs": [],
   "source": [
    "#-------- Import Dataset --------#\n",
    "\n",
    "data_list = []\n",
    "target_list = []\n",
    "\n",
    "import glob\n",
    "for fp in glob.glob(\"../data/train/*input.npz\"):\n",
    "    data = np.load(fp)[\"arr_0\"]\n",
    "    targets = np.load(fp.replace(\"input\", \"labels\"))[\"arr_0\"]\n",
    "    data_list.append(data)\n",
    "    target_list.append(targets)\n",
    "    \n",
    "print(len(data_list))\n",
    "print(len(target_list))\n",
    "\n",
    "X_train = np.concatenate(data_list[ :-1])\n",
    "y_train = np.concatenate(target_list[:-1])\n",
    "nsamples, nx, ny = X_train.shape\n",
    "print(\"Training set shape:\", nsamples,nx,ny)\n",
    "\n",
    "X_val = np.concatenate(data_list[-1: ])\n",
    "y_val = np.concatenate(target_list[-1: ])\n",
    "nsamples, nx, ny = X_val.shape\n",
    "print(\"Val set shape:\", nsamples,nx,ny)\n",
    "\n",
    "p_neg = len(y_train[y_train == 1])/len(y_train)*100\n",
    "print(\"Percent positive samples in train:\", p_neg)\n",
    "\n",
    "p_pos = len(y_val[y_val == 1])/len(y_val)*100\n",
    "print(\"Percent positive samples in val:\", p_pos)\n",
    "\n",
    "# make the data set into one dataset that can go into dataloader\n",
    "train_ds = []\n",
    "for i in range(len(X_train)):\n",
    "    train_ds.append([np.transpose(X_train[i]), y_train[i]])\n",
    "\n",
    "val_ds = []\n",
    "for i in range(len(X_val)):\n",
    "    val_ds.append([np.transpose(X_val[i]), y_val[i]])\n",
    "\n",
    "bat_size = 64\n",
    "print(\"\\nNOTE:\\nSetting batch-size to\", bat_size)\n",
    "train_ldr = torch.utils.data.DataLoader(train_ds,batch_size=bat_size, shuffle=True)\n",
    "val_ldr = torch.utils.data.DataLoader(val_ds,batch_size=bat_size, shuffle=True)"
   ]
  },
  {
   "cell_type": "code",
   "execution_count": 9,
   "id": "d0fdd9c1",
   "metadata": {},
   "outputs": [],
   "source": [
    "#-------- Select the netwrok you would like to use, thesis or hecaton code -------#\n",
    "\n",
    "HACKATON = False # ONLY CNN\n",
    "THESIS = True # CNN + RNN"
   ]
  },
  {
   "cell_type": "code",
   "execution_count": 11,
   "id": "4b97a5d6",
   "metadata": {},
   "outputs": [],
   "source": [
    "###############################\n",
    "###    Hackaton Code          ###\n",
    "###############################\n",
    "\n",
    "if HACKATON:\n",
    "    \n",
    "    #-------- Define network --------#\n",
    "\n",
    "    print(\"Initializing network\")\n",
    "\n",
    "    # Hyperparameters\n",
    "    input_size = 420\n",
    "    num_classes = 1\n",
    "    learning_rate = 0.01\n",
    "    epochs = 10\n",
    "\n",
    "    # Initialize network\n",
    "    net = Net(num_classes=num_classes).to(device)\n",
    "\n",
    "    # Loss and optimizer\n",
    "    criterion = nn.BCELoss()\n",
    "    optimizer = optim.SGD(net.parameters(), lr=learning_rate)\n",
    "\n",
    "\n",
    "    #-------- Train network --------#\n",
    "\n",
    "    print(\"Training\")\n",
    "\n",
    "    train_acc, train_loss = [], []\n",
    "    valid_acc, valid_loss = [], []\n",
    "    losses = []\n",
    "    val_losses = []\n",
    "\n",
    "    for epoch in range(epochs):\n",
    "        cur_loss = 0\n",
    "        val_loss = 0\n",
    "\n",
    "        net.train()\n",
    "        train_preds, train_targs = [], [] \n",
    "        for batch_idx, (data, target) in enumerate(train_ldr):\n",
    "            X_batch =  data.float().detach().requires_grad_(True)\n",
    "            target_batch = torch.tensor(np.array(target), dtype = torch.float).unsqueeze(1)\n",
    "\n",
    "            optimizer.zero_grad()\n",
    "            output = net(X_batch)\n",
    "\n",
    "            batch_loss = criterion(output, target_batch)\n",
    "            batch_loss.backward()\n",
    "            optimizer.step()\n",
    "\n",
    "            preds = np.round(output.detach().cpu())\n",
    "            train_targs += list(np.array(target_batch.cpu()))\n",
    "            train_preds += list(preds.data.numpy().flatten())\n",
    "            cur_loss += batch_loss.detach()\n",
    "\n",
    "        losses.append(cur_loss / len(train_ldr.dataset))\n",
    "        net.eval()\n",
    "\n",
    "        ### Evaluate validation\n",
    "        val_preds, val_targs = [], []\n",
    "        with torch.no_grad():\n",
    "            for batch_idx, (data, target) in enumerate(val_ldr): ###\n",
    "                x_batch_val = data.float().detach()\n",
    "                y_batch_val = target.float().detach().unsqueeze(1)\n",
    "\n",
    "                output = net(x_batch_val)\n",
    "\n",
    "                val_batch_loss = criterion(output, y_batch_val)\n",
    "\n",
    "                preds = np.round(output.detach())\n",
    "                val_preds += list(preds.data.numpy().flatten()) \n",
    "                val_targs += list(np.array(y_batch_val))\n",
    "                val_loss += val_batch_loss.detach()\n",
    "\n",
    "            val_losses.append(val_loss / len(val_ldr.dataset))\n",
    "            print(\"\\nEpoch:\", epoch+1)\n",
    "\n",
    "            train_acc_cur = accuracy_score(train_targs, train_preds)  \n",
    "            valid_acc_cur = accuracy_score(val_targs, val_preds) \n",
    "\n",
    "            train_acc.append(train_acc_cur)\n",
    "            valid_acc.append(valid_acc_cur)\n",
    "\n",
    "    \n",
    "            print(\"Training loss:\", round(losses[-1].item(),3), \"Validation loss:\", round(val_losses[-1].item(),3), end = \"\\n\")\n",
    "            print(\"MCC Train:\", round(matthews_corrcoef(train_targs, train_preds),3), \"MCC val:\", round(matthews_corrcoef(val_targs, val_preds),3) )\n",
    "\n",
    "    print('\\nFinished Training ...')\n",
    "\n",
    "\n",
    "    #-------- Save results --------#\n",
    "\n",
    "    results = pd.DataFrame(list(zip( (x[0] for x in val_targs), val_preds)),columns =['target', 'pred'])\n",
    "    print(results)\n",
    "\n",
    "    #results.to_csv('results/df_targets_preds.csv'.format(str(date.today())), index=False)\n",
    "\n",
    "\n",
    "    #-------- Performance Evaluation --------#\n",
    "    # The results change every time we train, we should check why (maybe we missed something or did wrong with the seeds?)\n",
    "\n",
    "    print(\"AUC: \", roc_auc_score(results['target'], results['pred']))\n",
    "    print(\"MCC: \", matthews_corrcoef(results['target'], results['pred']))\n",
    "\n",
    "    confusion_matrix = pd.crosstab(results['target'], results['pred'], rownames=['Actual'], colnames=['Predicted'])\n",
    "    sn.heatmap(confusion_matrix, annot=True, cmap='Blues', fmt='g')\n",
    "    plt.show()\n",
    "\n"
   ]
  },
  {
   "cell_type": "code",
   "execution_count": 15,
   "id": "53947bd5",
   "metadata": {},
   "outputs": [
    {
     "name": "stdout",
     "output_type": "stream",
     "text": [
      "Training set shape: 4180 420 54\n",
      "Validation set shape: 1526 420 54\n",
      "Epoch: 1\n",
      "Epoch: 2\n",
      "Epoch: 3\n",
      "Epoch: 4\n",
      "Epoch: 5\n",
      "Early stopping\n",
      "\n"
     ]
    },
    {
     "data": {
      "image/png": "[encoded data removed]",
      "text/plain": [
       "<Figure size 432x288 with 1 Axes>"
      ]
     },
     "metadata": {
      "needs_background": "light"
     },
     "output_type": "display_data"
    },
    {
     "data": {
      "image/png": "[encoded data removed]",
      "text/plain": [
       "<Figure size 432x288 with 1 Axes>"
      ]
     },
     "metadata": {
      "needs_background": "light"
     },
     "output_type": "display_data"
    },
    {
     "data": {
      "image/png": "[encoded data removed]",
      "text/plain": [
       "<Figure size 432x288 with 1 Axes>"
      ]
     },
     "metadata": {
      "needs_background": "light"
     },
     "output_type": "display_data"
    },
    {
     "name": "stdout",
     "output_type": "stream",
     "text": [
      "      target  pred\n",
      "0          0     0\n",
      "1          1     1\n",
      "2          0     0\n",
      "3          1     1\n",
      "4          0     0\n",
      "...      ...   ...\n",
      "1521       0     0\n",
      "1522       1     0\n",
      "1523       0     0\n",
      "1524       0     0\n",
      "1525       1     0\n",
      "\n",
      "[1526 rows x 2 columns]\n",
      "AUC:  0.7094860843207494\n",
      "MCC:  0.4455744762591951\n"
     ]
    },
    {
     "data": {
      "image/png": "[encoded data removed]",
      "text/plain": [
       "<Figure size 432x288 with 2 Axes>"
      ]
     },
     "metadata": {
      "needs_background": "light"
     },
     "output_type": "display_data"
    },
    {
     "name": "stdout",
     "output_type": "stream",
     "text": [
      "301\n"
     ]
    }
   ],
   "source": [
    "\n",
    "###############################\n",
    "###    Thesis Code          ###\n",
    "###############################\n",
    "\n",
    "if THESIS:\n",
    "    \n",
    "    #-------- Initials --------#\n",
    "\n",
    "    # All features\n",
    "    features = list(range(54))\n",
    "    # Only one-hot\n",
    "    #features = list(range(0,20))\n",
    "    # Only energy terms\n",
    "    #features = list(range(20,54))\n",
    "    # One-hot and global energy terms\n",
    "    #features = list(range(20)) + list(range(27,54))\n",
    "    # One-hot and per-residue energy terms\n",
    "    #features = list(range(27))\n",
    "    # Only per-residue energy terms\n",
    "    #features = list(range(20,27))\n",
    "    # One-hot and total scores\n",
    "    #features = list(range(20)) + [27, 41, 48]\n",
    "    # Only global energy terms\n",
    "    #features = list(range(27,54))\n",
    "\n",
    "    # Define network\n",
    "    # Whole sequence\n",
    "    residues = list(range(416))\n",
    "    # Without MHC\n",
    "    #residues = list(range(179,416))\n",
    "    # Without peptide\n",
    "    #residues = list(range(179)) + list(range(188,416))\n",
    "    # Without TCR\n",
    "    #residues = list(range(188))\n",
    "\n",
    "    # Hyperparameters\n",
    "    input_size = len(residues)\n",
    "    num_classes = 1\n",
    "    learning_rate = 0.001\n",
    "    bat_size = 128\n",
    "    epochs = 100\n",
    "    n_features = len(features)\n",
    "    criterion = nn.BCEWithLogitsLoss()\n",
    "\n",
    "\n",
    "    #-------- Train --------#\n",
    "    X_train = np.concatenate(data_list[ :-1])\n",
    "    y_train = np.concatenate(target_list[:-1])\n",
    "    nsamples, nx, ny = X_train.shape\n",
    "    print(\"Training set shape:\", nsamples,nx,ny)\n",
    "\n",
    "    X_valid = np.concatenate(data_list[-1: ])\n",
    "    y_valid = np.concatenate(target_list[-1: ])\n",
    "    nsamples, nx, ny = X_valid.shape\n",
    "    print(\"Validation set shape:\", nsamples,nx,ny)\n",
    "\n",
    "    # Dataloader\n",
    "    train_ds = []\n",
    "    for i in range(len(X_train)):\n",
    "        train_ds.append([np.transpose(X_train[i][:,features]), y_train[i]])\n",
    "    val_ds = []\n",
    "    for i in range(len(X_valid)):\n",
    "        val_ds.append([np.transpose(X_valid[i][:,features]), y_valid[i]])\n",
    "    train_ldr = torch.utils.data.DataLoader(train_ds,batch_size=bat_size, shuffle=True)\n",
    "    val_ldr = torch.utils.data.DataLoader(val_ds,batch_size=bat_size, shuffle=True)\n",
    "\n",
    "    # Initialize network\n",
    "    net = Net_th(num_classes=num_classes, n_features=n_features).to(device)\n",
    "\n",
    "    # Optimizer\n",
    "    optimizer = optim.Adam(net.parameters(), lr=learning_rate,\n",
    "                           weight_decay=0.0005,\n",
    "                           amsgrad=True,\n",
    "                           )\n",
    "\n",
    "    train_acc, train_losses, train_auc, valid_acc, valid_losses, valid_auc, val_preds, val_targs = func.train_th(net, optimizer, train_ldr, val_ldr, [], [], epochs, criterion)\n",
    "\n",
    "\n",
    "    #-------- Performance --------#\n",
    "    epoch = np.arange(1,len(train_losses)+1)\n",
    "    plt.figure()\n",
    "    plt.plot(epoch, train_losses, 'r', epoch, valid_losses, 'b')\n",
    "    plt.legend(['Train Loss','Validation Loss'])\n",
    "    plt.xlabel('Epoch'), plt.ylabel('Loss')\n",
    "\n",
    "    epoch = np.arange(1,len(train_auc)+1)\n",
    "    plt.figure()\n",
    "    plt.plot(epoch, train_auc, 'r', epoch, valid_auc, 'b')\n",
    "    plt.legend(['Train AUC','Validation AUC'])\n",
    "    plt.xlabel('Epoch'), plt.ylabel('AUC')\n",
    "\n",
    "    epoch = np.arange(1,len(train_acc)+1)\n",
    "    plt.figure()\n",
    "    plt.plot(epoch, train_acc, 'r', epoch, valid_acc, 'b')\n",
    "    plt.legend(['Train Accuracy','Validation Accuracy'])\n",
    "    plt.xlabel('Epoch'), plt.ylabel('Acc')\n",
    "    plt.show()\n",
    "\n",
    "    \n",
    "    #-------- Save results --------#\n",
    "\n",
    "    results = pd.DataFrame(list(zip( (int(x) for x in val_targs), (int(x) for x in val_preds))),columns =['target', 'pred'])\n",
    "    print(results)\n",
    "\n",
    "    #results.to_csv('results/df_targets_preds_th.csv'.format(str(date.today())), index=False\n",
    "\n",
    "\n",
    "\n",
    "    #-------- Performance Evaluation --------#\n",
    "    # The results change every time we train, we should check why (maybe we missed something or did wrong with the seeds?)\n",
    "\n",
    "    print(\"AUC: \", roc_auc_score(results['target'], results['pred']))\n",
    "    print(\"MCC: \", matthews_corrcoef(results['target'], results['pred']))\n",
    "\n",
    "    confusion_matrix = pd.crosstab(results['target'], results['pred'], rownames=['Actual'], colnames=['Predicted'])\n",
    "    sn.heatmap(confusion_matrix, annot=True, cmap='Blues', fmt='g')\n",
    "    plt.show()\n",
    "\n",
    "    print( len([i for i, (a, b) in enumerate(zip(results['pred'], results['target'])) if a != b]))"
   ]
  },
  {
   "cell_type": "code",
   "execution_count": null,
   "id": "c2e35b6c",
   "metadata": {},
   "outputs": [],
   "source": []
  },
  {
   "cell_type": "code",
   "execution_count": null,
   "id": "21478ebe",
   "metadata": {},
   "outputs": [],
   "source": [
    "ID = 'give_an_ID_to_this_notebook'\n",
    "nb = 'main'\n",
    "\n",
    "os.system('jupyter nbconvert {} --output {} --to html'.format(nb + '.ipynb', nb + '-' + ID +  '-' + str(date.today()) + '.html'))"
   ]
  },
  {
   "cell_type": "code",
   "execution_count": null,
   "id": "2988aa56",
   "metadata": {},
   "outputs": [],
   "source": []
  }
 ],
 "metadata": {
  "kernelspec": {
   "display_name": "Python 3",
   "language": "python",
   "name": "python3"
  },
  "language_info": {
   "codemirror_mode": {
    "name": "ipython",
    "version": 3
   },
   "file_extension": ".py",
   "mimetype": "text/x-python",
   "name": "python",
   "nbconvert_exporter": "python",
   "pygments_lexer": "ipython3",
   "version": "3.8.8"
  }
 },
 "nbformat": 4,
 "nbformat_minor": 5
}
