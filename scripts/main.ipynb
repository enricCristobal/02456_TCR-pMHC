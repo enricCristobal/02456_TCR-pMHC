{
 "cells": [
  {
   "cell_type": "code",
   "execution_count": 11,
   "id": "7c8da296",
   "metadata": {},
   "outputs": [],
   "source": [
    "#import \n",
    "import torch\n",
    "import os\n",
    "import sys\n",
    "import random\n",
    "import numpy as np\n",
    "import torch.nn as nn"
   ]
  },
  {
   "cell_type": "code",
   "execution_count": 2,
   "id": "ae6168c6",
   "metadata": {},
   "outputs": [],
   "source": [
    "# import modules\n",
    "import encoding as enc\n",
    "import esm1b"
   ]
  },
  {
   "cell_type": "code",
   "execution_count": 3,
   "id": "2690405a",
   "metadata": {},
   "outputs": [
    {
     "name": "stdout",
     "output_type": "stream",
     "text": [
      "No GPUs available. Using CPU instead.\n"
     ]
    }
   ],
   "source": [
    "if torch.cuda.is_available():\n",
    "    device = torch.device('cuda')\n",
    "    print('There are %d GPU(s) avalable.' % torch.cuda.device_count())\n",
    "else:\n",
    "    print('No GPUs available. Using CPU instead.')\n",
    "    device = torch.device('cpu')"
   ]
  },
  {
   "cell_type": "code",
   "execution_count": 9,
   "id": "a9a5d90b",
   "metadata": {},
   "outputs": [],
   "source": [
    "#-------- Seeds --------#\n",
    "seed_val = 42\n",
    "\n",
    "random.seed(seed_val)\n",
    "np.random.seed(seed_val)\n",
    "torch.manual_seed(seed_val)\n",
    "torch.cuda.manual_seed_all(seed_val)"
   ]
  },
  {
   "cell_type": "code",
   "execution_count": 12,
   "id": "d04fffeb",
   "metadata": {},
   "outputs": [],
   "source": [
    "#-------- Parameters --------#\n",
    "\n",
    "# Just an example below, we can always change later\n",
    "EPOCHS = 1000\n",
    "MINI_BATCH_SIZE = 512\n",
    "LEARNING_RATE = 0.0001\n",
    "PATIENCE = EPOCHS // 10\n",
    "N_HIDDEN_NEURONS = 128\n",
    "\n",
    "# Can be converted to BCE or another\n",
    "criterion = nn.MSELoss()\n",
    "\n",
    "DATADIR = \"/data/\"\n",
    "MATRICES = \"/data/Matrices\"\n",
    "\n"
   ]
  },
  {
   "cell_type": "code",
   "execution_count": null,
   "id": "d4a3e324",
   "metadata": {},
   "outputs": [],
   "source": [
    "#import dataset"
   ]
  },
  {
   "cell_type": "code",
   "execution_count": null,
   "id": "f21ab2e9",
   "metadata": {},
   "outputs": [],
   "source": [
    "#stats"
   ]
  }
 ],
 "metadata": {
  "kernelspec": {
   "display_name": "Python 3",
   "language": "python",
   "name": "python3"
  },
  "language_info": {
   "codemirror_mode": {
    "name": "ipython",
    "version": 3
   },
   "file_extension": ".py",
   "mimetype": "text/x-python",
   "name": "python",
   "nbconvert_exporter": "python",
   "pygments_lexer": "ipython3",
   "version": "3.8.8"
  }
 },
 "nbformat": 4,
 "nbformat_minor": 5
}
