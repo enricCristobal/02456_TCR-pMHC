{
 "cells": [
  {
   "cell_type": "code",
   "execution_count": 9,
   "id": "7c8da296",
   "metadata": {},
   "outputs": [],
   "source": [
    "# import libraries\n",
    "import torch\n",
    "import os\n",
    "import sys\n",
    "import random\n",
    "import numpy as np\n",
    "import torch.nn as nn"
   ]
  },
  {
   "cell_type": "code",
   "execution_count": 2,
   "id": "ae5f4635",
   "metadata": {},
   "outputs": [],
   "source": [
    "# import modules\n",
    "import encoding as enc\n",
    "import model\n",
    "import functions as func"
   ]
  },
  {
   "cell_type": "code",
   "execution_count": 3,
   "id": "43124096",
   "metadata": {},
   "outputs": [
    {
     "name": "stdout",
     "output_type": "stream",
     "text": [
      "No GPUs available. Using CPU instead.\n"
     ]
    }
   ],
   "source": [
    "if torch.cuda.is_available():\n",
    "    device = torch.device('cuda')\n",
    "    print('There are %d GPU(s) avalable.' % torch.cuda.device_count())\n",
    "else:\n",
    "    print('No GPUs available. Using CPU instead.')\n",
    "    device = torch.device('cpu')"
   ]
  },
  {
   "cell_type": "code",
   "execution_count": 9,
   "id": "254e4329",
   "metadata": {},
   "outputs": [],
   "source": [
    "#-------- Seeds --------#\n",
    "seed_val = 42\n",
    "\n",
    "random.seed(seed_val)\n",
    "np.random.seed(seed_val)\n",
    "torch.manual_seed(seed_val)\n",
    "torch.cuda.manual_seed_all(seed_val)"
   ]
  },
  {
   "cell_type": "code",
   "execution_count": 12,
   "id": "37e1c43c",
   "metadata": {},
   "outputs": [],
   "source": [
    "#-------- Parameters --------#\n",
    "\n",
    "# Just an example below, we can always change later\n",
    "EPOCHS = 1000\n",
    "MINI_BATCH_SIZE = 512\n",
    "LEARNING_RATE = 0.0001\n",
    "PATIENCE = EPOCHS // 10\n",
    "N_HIDDEN_NEURONS = 128\n",
    "\n",
    "# Can be converted to BCE or another\n",
    "criterion = nn.MSELoss()\n",
    "\n",
    "DATADIR = \"/data/\"\n",
    "MATRICES = \"/data/Matrices\"\n"
   ]
  },
  {
   "cell_type": "code",
   "execution_count": 14,
   "id": "5d283820",
   "metadata": {},
   "outputs": [
    {
     "name": "stdout",
     "output_type": "stream",
     "text": [
      "Archive:  ../data/train.zip\n",
      "  inflating: ../data/train/P2_labels.npz  \n",
      "   creating: ../data/train/__MACOSX/\n",
      "  inflating: ../data/train/__MACOSX/._P2_labels.npz  \n",
      "  inflating: ../data/train/P3_input.npz  \n",
      "  inflating: ../data/train/__MACOSX/._P3_input.npz  \n",
      "  inflating: ../data/train/P4_input.npz  \n",
      "  inflating: ../data/train/__MACOSX/._P4_input.npz  \n",
      "  inflating: ../data/train/P2_input.npz  \n",
      "  inflating: ../data/train/__MACOSX/._P2_input.npz  \n",
      "  inflating: ../data/train/P1_input.npz  \n",
      "  inflating: ../data/train/__MACOSX/._P1_input.npz  \n",
      "  inflating: ../data/train/P3_labels.npz  \n",
      "  inflating: ../data/train/__MACOSX/._P3_labels.npz  \n",
      "  inflating: ../data/train/P4_labels.npz  \n",
      "  inflating: ../data/train/__MACOSX/._P4_labels.npz  \n",
      "  inflating: ../data/train/P1_labels.npz  \n",
      "  inflating: ../data/train/__MACOSX/._P1_labels.npz  \n",
      "Archive:  ../data/validation.zip\n",
      "  inflating: ../data/validation/P4_input.npz  \n",
      "   creating: ../data/validation/__MACOSX/\n",
      "  inflating: ../data/validation/__MACOSX/._P4_input.npz  \n",
      "  inflating: ../data/validation/P4_labels.npz  \n",
      "  inflating: ../data/validation/__MACOSX/._P4_labels.npz  \n"
     ]
    }
   ],
   "source": [
    "try:\n",
    "    if len(os.listdir('../data/train')) != 0:\n",
    "        print(\"data directories already exists.\")\n",
    "except:\n",
    "    !unzip ../data/train.zip -d ../data/train\n",
    "    !unzip ../data/validation.zip -d ../data/validation"
   ]
  },
  {
   "cell_type": "code",
   "execution_count": 22,
   "id": "edd67086",
   "metadata": {},
   "outputs": [
    {
     "name": "stdout",
     "output_type": "stream",
     "text": [
      "train: ['P2_labels.npz', 'P3_input.npz', 'P4_input.npz', 'P2_input.npz', '__MACOSX', 'P1_input.npz', 'P3_labels.npz', 'P4_labels.npz', 'P1_labels.npz'] \n",
      "\n",
      "validation: ['P4_input.npz', '__MACOSX', 'P4_labels.npz']\n"
     ]
    }
   ],
   "source": [
    "print(\"train:\", os.listdir('../data/train'), '\\n')\n",
    "print(\"validation:\",os.listdir('../data/validation'))"
   ]
  },
  {
   "cell_type": "code",
   "execution_count": 30,
   "id": "d4a3e324",
   "metadata": {},
   "outputs": [
    {
     "name": "stdout",
     "output_type": "stream",
     "text": [
      "4\n",
      "4\n"
     ]
    }
   ],
   "source": [
    "#-------- Import Dataset --------#\n",
    "\n",
    "data_list = []\n",
    "target_list = []\n",
    "\n",
    "import glob\n",
    "for fp in glob.glob(\"../data/train/*input.npz\"):\n",
    "    data = np.load(fp)[\"arr_0\"]\n",
    "    targets = np.load(fp.replace(\"input\", \"labels\"))[\"arr_0\"]\n",
    "    data_list.append(data)\n",
    "    target_list.append(targets)\n",
    "    \n",
    "print(len(data_list))\n",
    "print(len(target_list))"
   ]
  },
  {
   "cell_type": "code",
   "execution_count": null,
   "id": "f21ab2e9",
   "metadata": {},
   "outputs": [],
   "source": [
    "#stats"
   ]
  }
 ],
 "metadata": {
  "kernelspec": {
   "display_name": "Python 3",
   "language": "python",
   "name": "python3"
  },
  "language_info": {
   "codemirror_mode": {
    "name": "ipython",
    "version": 3
   },
   "file_extension": ".py",
   "mimetype": "text/x-python",
   "name": "python",
   "nbconvert_exporter": "python",
   "pygments_lexer": "ipython3",
   "version": "3.8.8"
  }
 },
 "nbformat": 4,
 "nbformat_minor": 5
}
